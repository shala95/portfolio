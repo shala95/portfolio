{
  "cells": [
    {
      "cell_type": "code",
      "execution_count": 1,
      "metadata": {
        "colab": {
          "base_uri": "https://localhost:8080/"
        },
        "id": "wVGmBzmBs_2Q",
        "outputId": "c2e7af71-f375-4c2a-9caa-45a33013a589"
      },
      "outputs": [
        {
          "output_type": "stream",
          "name": "stdout",
          "text": [
            "Mounted at /gdrive\n",
            "/gdrive/My Drive/train\n"
          ]
        }
      ],
      "source": [
        "from google.colab import drive\n",
        "drive.mount('/gdrive')\n",
        "%cd /gdrive/My Drive/train"
      ]
    },
    {
      "cell_type": "code",
      "execution_count": 2,
      "metadata": {
        "id": "TKVLeathtJUv"
      },
      "outputs": [],
      "source": [
        "from scipy.io import loadmat\n",
        "import numpy as np, os, sys, joblib\n",
        "import matplotlib.pyplot as plt\n",
        "import scipy.signal as signal\n",
        "import math\n",
        "from tqdm import tqdm\n",
        "import pandas as pd\n",
        "import random\n",
        "import tensorflow as tf\n",
        "from tensorflow.keras.models import Sequential\n",
        "import sklearn\n",
        "from collections import Counter\n",
        "import matplotlib.pyplot as plt\n",
        "import seaborn as sns\n",
        "from sklearn.metrics import confusion_matrix\n",
        "import itertools\n",
        "\n",
        "\n",
        "SEED = 1234\n",
        "np.random.seed(SEED)\n",
        "pd.core.common._random_stat = SEED\n",
        "random.seed(SEED)\n",
        "os.environ['PYTHONHASHSEED'] = str(SEED)"
      ]
    },
    {
      "cell_type": "code",
      "execution_count": 3,
      "metadata": {
        "id": "YHNgk9_6tQR3"
      },
      "outputs": [],
      "source": [
        "from sklearn.model_selection import train_test_split\n",
        "import os\n",
        "import re"
      ]
    },
    {
      "cell_type": "code",
      "execution_count": 4,
      "metadata": {
        "id": "EE3aHHDftSmF"
      },
      "outputs": [],
      "source": [
        "path_to_data = \"/gdrive/My Drive/train\""
      ]
    },
    {
      "cell_type": "code",
      "source": [
        "# Utility: given the filename of a signal it returns the sampling frequency\n",
        "def ppg_freq(filename):\n",
        "  if '128' in filename:\n",
        "    return 128\n",
        "  else:\n",
        "    return 250"
      ],
      "metadata": {
        "id": "cvE0iuuGSgQO"
      },
      "execution_count": 5,
      "outputs": []
    },
    {
      "cell_type": "code",
      "execution_count": 6,
      "metadata": {
        "id": "lpFx7BJYtXh2"
      },
      "outputs": [],
      "source": [
        "def load_data(file):\n",
        "\n",
        "  original = loadmat(file) #  dictionary with variable names as keys, and loaded matrices as values\n",
        "\n",
        "  spk_file = file.replace('.mat', '_spk.mat')\n",
        "  spk = loadmat(spk_file)\n",
        "\n",
        "  ann_file = file.replace('.mat', '_ann.mat')\n",
        "  ann = loadmat(ann_file)\n",
        "\n",
        "  return original, spk, ann"
      ]
    },
    {
      "cell_type": "code",
      "execution_count": 7,
      "metadata": {
        "id": "Epu0GFrYta5W"
      },
      "outputs": [],
      "source": [
        "def filter_files_by_pattern(directory, pattern):\n",
        "    \"\"\"\n",
        "    Filter files in a directory based on a specified pattern.\n",
        "\n",
        "    Parameters:\n",
        "    - directory: The directory containing the files.\n",
        "    - pattern: The regular expression pattern to match filenames.\n",
        "\n",
        "    Returns:\n",
        "    - List of filenames matching the pattern.\n",
        "    \"\"\"\n",
        "    files = os.listdir(directory)\n",
        "    filtered_files = [file for file in files if re.match(pattern, file)]\n",
        "    return filtered_files"
      ]
    },
    {
      "cell_type": "code",
      "execution_count": 8,
      "metadata": {
        "colab": {
          "base_uri": "https://localhost:8080/"
        },
        "id": "kRJNY33Gtbft",
        "outputId": "34d39f88-7877-4eec-a00e-174b642f80ac"
      },
      "outputs": [
        {
          "output_type": "stream",
          "name": "stdout",
          "text": [
            "['S001_128.mat', 'S002_128.mat', 'S003_128.mat', 'S004_128.mat', 'S005_128.mat', 'S006_128.mat', 'S007_128.mat', 'S008_128.mat', 'S009_128.mat', 'S010_128.mat', 'S011_128.mat', 'S012_128.mat', 'S013_128.mat', 'S014_128.mat', 'S015_128.mat', 'S016_128.mat', 'S017_128.mat', 'S018_128.mat', 'S019_128.mat', 'S020_128.mat', 'S021_128.mat', 'S022_128.mat', 'S023_128.mat', 'S024_128.mat', 'S025_128.mat', 'S026_128.mat', 'S027_128.mat', 'S028_128.mat', 'S029_128.mat', 'S030_128.mat', 'S031_128.mat', 'S032_128.mat', 'S033_128.mat', 'S034_128.mat', 'S035_128.mat', 'S036_128.mat', 'S037_128.mat', 'S038_128.mat', 'S039_128.mat', 'S040_128.mat', 'S041_128.mat', 'S042_128.mat', 'S043_128.mat', 'S044_128.mat', 'S045_128.mat', 'S046_128.mat', 'S047_128.mat', 'S048_128.mat', 'S049_128.mat', 'S050_128.mat', 'S051_128.mat', 'S052_128.mat', 'S053_128.mat', 'S054_128.mat', 'S055_128.mat', 'S056_128.mat', 'S057_128.mat', 'S058_128.mat', 'S059_128.mat', 'S060_128.mat', 'S061_128.mat', 'S062_128.mat', 'S079_250.mat', 'S080_250.mat', 'S081_250.mat', 'S082_250.mat', 'S083_250.mat', 'S084_250.mat', 'S085_250.mat', 'S086_250.mat', 'S087_250.mat', 'S088_250.mat', 'S089_250.mat', 'S090_250.mat', 'S091_250.mat', 'S092_250.mat', 'S093_250.mat', 'S094_250.mat', 'S095_250.mat', 'S096_250.mat', 'S097_250.mat', 'S098_250.mat', 'S099_250.mat', 'S100_250.mat', 'S101_250.mat', 'S102_250.mat', 'S103_250.mat', 'S104_250.mat', 'S105_250.mat', 'S106_250.mat', 'S107_250.mat', 'S108_250.mat', 'S109_250.mat', 'S110_250.mat', 'S111_250.mat', 'S112_250.mat', 'S113_250.mat', 'S114_250.mat', 'S115_250.mat', 'S116_250.mat', 'S117_250.mat', 'S118_250.mat', 'S119_250.mat', 'S120_250.mat', 'S121_250.mat']\n"
          ]
        }
      ],
      "source": [
        "directory = path_to_data\n",
        "pattern = r'S\\d{3}_\\d{3}\\.mat'  # Regular expression pattern matching 'SXXX_YYY.mat'\n",
        "\n",
        "filtered_files = filter_files_by_pattern(directory, pattern)\n",
        "print(filtered_files)"
      ]
    },
    {
      "cell_type": "code",
      "source": [
        "type(filtered_files)\n",
        "len(filtered_files)"
      ],
      "metadata": {
        "colab": {
          "base_uri": "https://localhost:8080/"
        },
        "id": "5stv6v8WHUn-",
        "outputId": "c61bf32e-b78b-4919-e131-7bd6a00ddd1f"
      },
      "execution_count": 9,
      "outputs": [
        {
          "output_type": "execute_result",
          "data": {
            "text/plain": [
              "105"
            ]
          },
          "metadata": {},
          "execution_count": 9
        }
      ]
    },
    {
      "cell_type": "code",
      "source": [
        "data = []\n",
        "ppg_data = []\n",
        "spk_data = []\n",
        "ann_data = []\n",
        "\n",
        "for file in filtered_files:\n",
        "  ppg, spk, ann = load_data(path_to_data + '/' + file)\n",
        "  ppg_data.append(ppg)\n",
        "  spk_data.append(spk)\n",
        "  ann_data.append(ann)\n",
        "\n",
        "  data.append(path_to_data + '/' + file)"
      ],
      "metadata": {
        "id": "6NbqLDwiHZt0"
      },
      "execution_count": 10,
      "outputs": []
    },
    {
      "cell_type": "code",
      "source": [
        "ppg_data"
      ],
      "metadata": {
        "colab": {
          "base_uri": "https://localhost:8080/"
        },
        "id": "cC0L8sN0L_I8",
        "outputId": "8420fc25-5a74-435d-a537-14d30df4f2d6"
      },
      "execution_count": 11,
      "outputs": [
        {
          "output_type": "execute_result",
          "data": {
            "text/plain": [
              "[{'__header__': b'MATLAB 5.0 MAT-file, Platform: MACA64, Created on: Tue Nov  7 09:57:28 2023',\n",
              "  '__version__': '1.0',\n",
              "  '__globals__': [],\n",
              "  'ppg': array([[-2.38138363],\n",
              "         [-2.38135063],\n",
              "         [-2.38131159],\n",
              "         ...,\n",
              "         [-3.93333424],\n",
              "         [-4.06168546],\n",
              "         [-4.2308891 ]])},\n",
              " {'__header__': b'MATLAB 5.0 MAT-file, Platform: MACA64, Created on: Tue Nov  7 09:57:28 2023',\n",
              "  '__version__': '1.0',\n",
              "  '__globals__': [],\n",
              "  'ppg': array([[-1.62433622],\n",
              "         [-1.62433622],\n",
              "         [-1.62433622],\n",
              "         ...,\n",
              "         [-1.7324762 ],\n",
              "         [-1.27083778],\n",
              "         [-1.31682689]])},\n",
              " {'__header__': b'MATLAB 5.0 MAT-file, Platform: MACA64, Created on: Tue Nov  7 09:57:28 2023',\n",
              "  '__version__': '1.0',\n",
              "  '__globals__': [],\n",
              "  'ppg': array([[-2.42002693],\n",
              "         [-2.4200018 ],\n",
              "         [-2.41997314],\n",
              "         ...,\n",
              "         [-2.41322432],\n",
              "         [-2.41333122],\n",
              "         [-2.41343626]])},\n",
              " {'__header__': b'MATLAB 5.0 MAT-file, Platform: MACA64, Created on: Tue Nov  7 09:57:28 2023',\n",
              "  '__version__': '1.0',\n",
              "  '__globals__': [],\n",
              "  'ppg': array([[ -1.84618138],\n",
              "         [ -1.84618129],\n",
              "         [ -1.84618115],\n",
              "         ...,\n",
              "         [ -8.66013472],\n",
              "         [ -9.39623979],\n",
              "         [-10.93874931]])},\n",
              " {'__header__': b'MATLAB 5.0 MAT-file, Platform: MACA64, Created on: Tue Nov  7 09:57:28 2023',\n",
              "  '__version__': '1.0',\n",
              "  '__globals__': [],\n",
              "  'ppg': array([[-2.28781776],\n",
              "         [-2.28778699],\n",
              "         [-2.28775149],\n",
              "         ...,\n",
              "         [-7.47831182],\n",
              "         [-7.08123088],\n",
              "         [-7.29160242]])},\n",
              " {'__header__': b'MATLAB 5.0 MAT-file, Platform: MACA64, Created on: Tue Nov  7 09:57:28 2023',\n",
              "  '__version__': '1.0',\n",
              "  '__globals__': [],\n",
              "  'ppg': array([[-2.03977179],\n",
              "         [-2.03976231],\n",
              "         [-2.03975135],\n",
              "         ...,\n",
              "         [ 1.81192531],\n",
              "         [ 0.30365218],\n",
              "         [-0.23711864]])},\n",
              " {'__header__': b'MATLAB 5.0 MAT-file, Platform: MACA64, Created on: Tue Nov  7 09:57:29 2023',\n",
              "  '__version__': '1.0',\n",
              "  '__globals__': [],\n",
              "  'ppg': array([[-2.22563234],\n",
              "         [-2.22558066],\n",
              "         [-2.22552238],\n",
              "         ...,\n",
              "         [-1.87560657],\n",
              "         [-1.85378433],\n",
              "         [-1.89347618]])},\n",
              " {'__header__': b'MATLAB 5.0 MAT-file, Platform: MACA64, Created on: Tue Nov  7 09:57:29 2023',\n",
              "  '__version__': '1.0',\n",
              "  '__globals__': [],\n",
              "  'ppg': array([[-2.38517101],\n",
              "         [-2.38514392],\n",
              "         [-2.385113  ],\n",
              "         ...,\n",
              "         [-6.90206801],\n",
              "         [-6.69933291],\n",
              "         [-6.55881745]])},\n",
              " {'__header__': b'MATLAB 5.0 MAT-file, Platform: MACA64, Created on: Tue Nov  7 09:57:29 2023',\n",
              "  '__version__': '1.0',\n",
              "  '__globals__': [],\n",
              "  'ppg': array([[-1.88959121],\n",
              "         [-1.88959106],\n",
              "         [-1.88959087],\n",
              "         ...,\n",
              "         [-1.88959172],\n",
              "         [-1.88959173],\n",
              "         [-1.88959173]])},\n",
              " {'__header__': b'MATLAB 5.0 MAT-file, Platform: MACA64, Created on: Tue Nov  7 09:57:29 2023',\n",
              "  '__version__': '1.0',\n",
              "  '__globals__': [],\n",
              "  'ppg': array([[-1.86976435],\n",
              "         [-1.86976416],\n",
              "         [-1.8697639 ],\n",
              "         ...,\n",
              "         [-3.21407915],\n",
              "         [-3.179012  ],\n",
              "         [-3.16361573]])},\n",
              " {'__header__': b'MATLAB 5.0 MAT-file, Platform: MACA64, Created on: Tue Nov  7 09:57:29 2023',\n",
              "  '__version__': '1.0',\n",
              "  '__globals__': [],\n",
              "  'ppg': array([[-2.30117906],\n",
              "         [-2.30115315],\n",
              "         [-2.30112397],\n",
              "         ...,\n",
              "         [-2.29569334],\n",
              "         [-2.29576887],\n",
              "         [-2.29584327]])},\n",
              " {'__header__': b'MATLAB 5.0 MAT-file, Platform: MACA64, Created on: Tue Nov  7 09:57:29 2023',\n",
              "  '__version__': '1.0',\n",
              "  '__globals__': [],\n",
              "  'ppg': array([[-1.6085944],\n",
              "         [-1.6085944],\n",
              "         [-1.6085944],\n",
              "         ...,\n",
              "         [-1.6085944],\n",
              "         [-1.6085944],\n",
              "         [-1.6085944]])},\n",
              " {'__header__': b'MATLAB 5.0 MAT-file, Platform: MACA64, Created on: Tue Nov  7 09:57:30 2023',\n",
              "  '__version__': '1.0',\n",
              "  '__globals__': [],\n",
              "  'ppg': array([[-1.8747457 ],\n",
              "         [-1.8747456 ],\n",
              "         [-1.87474548],\n",
              "         ...,\n",
              "         [ 6.92591898],\n",
              "         [ 7.005649  ],\n",
              "         [ 7.41894579]])},\n",
              " {'__header__': b'MATLAB 5.0 MAT-file, Platform: MACA64, Created on: Tue Nov  7 09:57:30 2023',\n",
              "  '__version__': '1.0',\n",
              "  '__globals__': [],\n",
              "  'ppg': array([[-2.36000324],\n",
              "         [-2.35996344],\n",
              "         [-2.35991619],\n",
              "         ...,\n",
              "         [-2.35814875],\n",
              "         [-2.35819273],\n",
              "         [-2.35823564]])},\n",
              " {'__header__': b'MATLAB 5.0 MAT-file, Platform: MACA64, Created on: Tue Nov  7 09:57:30 2023',\n",
              "  '__version__': '1.0',\n",
              "  '__globals__': [],\n",
              "  'ppg': array([[-2.00867526],\n",
              "         [-2.00866851],\n",
              "         [-2.00866091],\n",
              "         ...,\n",
              "         [-2.00836323],\n",
              "         [-2.00837351],\n",
              "         [-2.00838348]])},\n",
              " {'__header__': b'MATLAB 5.0 MAT-file, Platform: MACA64, Created on: Tue Nov  7 09:57:30 2023',\n",
              "  '__version__': '1.0',\n",
              "  '__globals__': [],\n",
              "  'ppg': array([[-1.58870041],\n",
              "         [-1.58870041],\n",
              "         [-1.58870041],\n",
              "         ...,\n",
              "         [-1.58870041],\n",
              "         [-1.58870041],\n",
              "         [-1.58870041]])},\n",
              " {'__header__': b'MATLAB 5.0 MAT-file, Platform: MACA64, Created on: Tue Nov  7 09:57:31 2023',\n",
              "  '__version__': '1.0',\n",
              "  '__globals__': [],\n",
              "  'ppg': array([[-1.8570442 ],\n",
              "         [-1.85704402],\n",
              "         [-1.85704378],\n",
              "         ...,\n",
              "         [-1.8570447 ],\n",
              "         [-1.8570447 ],\n",
              "         [-1.8570447 ]])},\n",
              " {'__header__': b'MATLAB 5.0 MAT-file, Platform: MACA64, Created on: Tue Nov  7 09:57:31 2023',\n",
              "  '__version__': '1.0',\n",
              "  '__globals__': [],\n",
              "  'ppg': array([[-2.76401873],\n",
              "         [-2.76396188],\n",
              "         [-2.76389808],\n",
              "         ...,\n",
              "         [-2.26738503],\n",
              "         [-2.42859717],\n",
              "         [-2.58222943]])},\n",
              " {'__header__': b'MATLAB 5.0 MAT-file, Platform: MACA64, Created on: Tue Nov  7 09:57:31 2023',\n",
              "  '__version__': '1.0',\n",
              "  '__globals__': [],\n",
              "  'ppg': array([[-1.96860933],\n",
              "         [-1.96859909],\n",
              "         [-1.96858688],\n",
              "         ...,\n",
              "         [ 0.37914887],\n",
              "         [12.18379536],\n",
              "         [-0.05961882]])},\n",
              " {'__header__': b'MATLAB 5.0 MAT-file, Platform: MACA64, Created on: Tue Nov  7 09:57:31 2023',\n",
              "  '__version__': '1.0',\n",
              "  '__globals__': [],\n",
              "  'ppg': array([[-1.89690237],\n",
              "         [-1.89688751],\n",
              "         [-1.896868  ],\n",
              "         ...,\n",
              "         [-1.8373106 ],\n",
              "         [-2.06055025],\n",
              "         [-2.16075054]])},\n",
              " {'__header__': b'MATLAB 5.0 MAT-file, Platform: MACA64, Created on: Tue Nov  7 09:57:31 2023',\n",
              "  '__version__': '1.0',\n",
              "  '__globals__': [],\n",
              "  'ppg': array([[-1.81821307],\n",
              "         [-1.81821292],\n",
              "         [-1.81821272],\n",
              "         ...,\n",
              "         [-1.8182135 ],\n",
              "         [-1.8182135 ],\n",
              "         [-1.81821351]])},\n",
              " {'__header__': b'MATLAB 5.0 MAT-file, Platform: MACA64, Created on: Tue Nov  7 09:57:31 2023',\n",
              "  '__version__': '1.0',\n",
              "  '__globals__': [],\n",
              "  'ppg': array([[-2.78432008],\n",
              "         [-2.78426345],\n",
              "         [-2.78419949],\n",
              "         ...,\n",
              "         [-2.05752057],\n",
              "         [-2.98749863],\n",
              "         [-3.79324859]])},\n",
              " {'__header__': b'MATLAB 5.0 MAT-file, Platform: MACA64, Created on: Tue Nov  7 09:57:31 2023',\n",
              "  '__version__': '1.0',\n",
              "  '__globals__': [],\n",
              "  'ppg': array([[-1.605081],\n",
              "         [-1.605081],\n",
              "         [-1.605081],\n",
              "         ...,\n",
              "         [-1.605081],\n",
              "         [-1.605081],\n",
              "         [-1.605081]])},\n",
              " {'__header__': b'MATLAB 5.0 MAT-file, Platform: MACA64, Created on: Tue Nov  7 09:57:32 2023',\n",
              "  '__version__': '1.0',\n",
              "  '__globals__': [],\n",
              "  'ppg': array([[-1.86648838],\n",
              "         [-1.86648824],\n",
              "         [-1.86648807],\n",
              "         ...,\n",
              "         [ 0.02510867],\n",
              "         [ 0.11742498],\n",
              "         [ 0.21282652]])},\n",
              " {'__header__': b'MATLAB 5.0 MAT-file, Platform: MACA64, Created on: Tue Nov  7 09:57:32 2023',\n",
              "  '__version__': '1.0',\n",
              "  '__globals__': [],\n",
              "  'ppg': array([[-1.59853573],\n",
              "         [-1.59853573],\n",
              "         [-1.59853573],\n",
              "         ...,\n",
              "         [-1.90900064],\n",
              "         [-1.782135  ],\n",
              "         [-1.80201708]])},\n",
              " {'__header__': b'MATLAB 5.0 MAT-file, Platform: MACA64, Created on: Tue Nov  7 09:57:32 2023',\n",
              "  '__version__': '1.0',\n",
              "  '__globals__': [],\n",
              "  'ppg': array([[-1.5885062],\n",
              "         [-1.5885062],\n",
              "         [-1.5885062],\n",
              "         ...,\n",
              "         [-1.5885062],\n",
              "         [-1.5885062],\n",
              "         [-1.5885062]])},\n",
              " {'__header__': b'MATLAB 5.0 MAT-file, Platform: MACA64, Created on: Tue Nov  7 09:57:33 2023',\n",
              "  '__version__': '1.0',\n",
              "  '__globals__': [],\n",
              "  'ppg': array([[-1.76135164],\n",
              "         [-1.76134428],\n",
              "         [-1.76133466],\n",
              "         ...,\n",
              "         [-1.76102704],\n",
              "         [-1.76103489],\n",
              "         [-1.76104255]])},\n",
              " {'__header__': b'MATLAB 5.0 MAT-file, Platform: MACA64, Created on: Tue Nov  7 09:57:33 2023',\n",
              "  '__version__': '1.0',\n",
              "  '__globals__': [],\n",
              "  'ppg': array([[-2.84178608],\n",
              "         [-2.84173508],\n",
              "         [-2.84167843],\n",
              "         ...,\n",
              "         [-2.84207279],\n",
              "         [-2.8420767 ],\n",
              "         [-2.84208049]])},\n",
              " {'__header__': b'MATLAB 5.0 MAT-file, Platform: MACA64, Created on: Tue Nov  7 09:57:33 2023',\n",
              "  '__version__': '1.0',\n",
              "  '__globals__': [],\n",
              "  'ppg': array([[-1.5562451 ],\n",
              "         [-1.5562451 ],\n",
              "         [-1.5562451 ],\n",
              "         ...,\n",
              "         [-4.96004125],\n",
              "         [-5.05840253],\n",
              "         [-7.49116011]])},\n",
              " {'__header__': b'MATLAB 5.0 MAT-file, Platform: MACA64, Created on: Tue Nov  7 09:57:33 2023',\n",
              "  '__version__': '1.0',\n",
              "  '__globals__': [],\n",
              "  'ppg': array([[-1.95917358],\n",
              "         [-1.95916376],\n",
              "         [-1.95915239],\n",
              "         ...,\n",
              "         [-6.02922752],\n",
              "         [-4.69609851],\n",
              "         [-2.89462974]])},\n",
              " {'__header__': b'MATLAB 5.0 MAT-file, Platform: MACA64, Created on: Tue Nov  7 09:57:33 2023',\n",
              "  '__version__': '1.0',\n",
              "  '__globals__': [],\n",
              "  'ppg': array([[-2.02184599],\n",
              "         [-2.02183651],\n",
              "         [-2.02182554],\n",
              "         ...,\n",
              "         [-2.02157204],\n",
              "         [-2.02158162],\n",
              "         [-2.0215909 ]])},\n",
              " {'__header__': b'MATLAB 5.0 MAT-file, Platform: MACA64, Created on: Tue Nov  7 09:57:33 2023',\n",
              "  '__version__': '1.0',\n",
              "  '__globals__': [],\n",
              "  'ppg': array([[-1.95247976],\n",
              "         [-1.95247269],\n",
              "         [-1.95246457],\n",
              "         ...,\n",
              "         [ 4.24859964],\n",
              "         [ 3.71970524],\n",
              "         [ 3.3946859 ]])},\n",
              " {'__header__': b'MATLAB 5.0 MAT-file, Platform: MACA64, Created on: Tue Nov  7 09:57:33 2023',\n",
              "  '__version__': '1.0',\n",
              "  '__globals__': [],\n",
              "  'ppg': array([[-1.79209915],\n",
              "         [-1.79209883],\n",
              "         [-1.79209833],\n",
              "         ...,\n",
              "         [-1.79209977],\n",
              "         [-1.79209977],\n",
              "         [-1.79209977]])},\n",
              " {'__header__': b'MATLAB 5.0 MAT-file, Platform: MACA64, Created on: Tue Nov  7 09:57:34 2023',\n",
              "  '__version__': '1.0',\n",
              "  '__globals__': [],\n",
              "  'ppg': array([[-1.59489603],\n",
              "         [-1.59489603],\n",
              "         [-1.59489603],\n",
              "         ...,\n",
              "         [-1.59489603],\n",
              "         [-1.59489603],\n",
              "         [-1.59489603]])},\n",
              " {'__header__': b'MATLAB 5.0 MAT-file, Platform: MACA64, Created on: Tue Nov  7 09:57:34 2023',\n",
              "  '__version__': '1.0',\n",
              "  '__globals__': [],\n",
              "  'ppg': array([[-1.61963662],\n",
              "         [-1.61963662],\n",
              "         [-1.61963662],\n",
              "         ...,\n",
              "         [-2.38194645],\n",
              "         [-2.57453557],\n",
              "         [-2.60854179]])},\n",
              " {'__header__': b'MATLAB 5.0 MAT-file, Platform: MACA64, Created on: Tue Nov  7 09:57:34 2023',\n",
              "  '__version__': '1.0',\n",
              "  '__globals__': [],\n",
              "  'ppg': array([[-1.91073411],\n",
              "         [-1.91072335],\n",
              "         [-1.91071005],\n",
              "         ...,\n",
              "         [-0.80172088],\n",
              "         [ 0.92401164],\n",
              "         [ 0.68129721]])},\n",
              " {'__header__': b'MATLAB 5.0 MAT-file, Platform: MACA64, Created on: Tue Nov  7 09:57:34 2023',\n",
              "  '__version__': '1.0',\n",
              "  '__globals__': [],\n",
              "  'ppg': array([[-2.00696574],\n",
              "         [-2.00695862],\n",
              "         [-2.00695053],\n",
              "         ...,\n",
              "         [-1.8703747 ],\n",
              "         [-1.80837567],\n",
              "         [-1.78702257]])},\n",
              " {'__header__': b'MATLAB 5.0 MAT-file, Platform: MACA64, Created on: Tue Nov  7 09:57:34 2023',\n",
              "  '__version__': '1.0',\n",
              "  '__globals__': [],\n",
              "  'ppg': array([[-2.02636122],\n",
              "         [-2.0263507 ],\n",
              "         [-2.02633796],\n",
              "         ...,\n",
              "         [-2.02632135],\n",
              "         [-2.02632446],\n",
              "         [-2.02632746]])},\n",
              " {'__header__': b'MATLAB 5.0 MAT-file, Platform: MACA64, Created on: Tue Nov  7 09:57:34 2023',\n",
              "  '__version__': '1.0',\n",
              "  '__globals__': [],\n",
              "  'ppg': array([[-2.75603926],\n",
              "         [-2.75598295],\n",
              "         [-2.75591944],\n",
              "         ...,\n",
              "         [-1.88084665],\n",
              "         [-2.04033764],\n",
              "         [-2.20887272]])},\n",
              " {'__header__': b'MATLAB 5.0 MAT-file, Platform: MACA64, Created on: Tue Nov  7 09:57:34 2023',\n",
              "  '__version__': '1.0',\n",
              "  '__globals__': [],\n",
              "  'ppg': array([[-2.11797123],\n",
              "         [-2.11792751],\n",
              "         [-2.11787909],\n",
              "         ...,\n",
              "         [-2.11832104],\n",
              "         [-2.11832213],\n",
              "         [-2.11832317]])},\n",
              " {'__header__': b'MATLAB 5.0 MAT-file, Platform: MACA64, Created on: Tue Nov  7 09:57:34 2023',\n",
              "  '__version__': '1.0',\n",
              "  '__globals__': [],\n",
              "  'ppg': array([[-1.87731608],\n",
              "         [-1.8773159 ],\n",
              "         [-1.87731566],\n",
              "         ...,\n",
              "         [-1.87731662],\n",
              "         [-1.87731662],\n",
              "         [-1.87731662]])},\n",
              " {'__header__': b'MATLAB 5.0 MAT-file, Platform: MACA64, Created on: Tue Nov  7 09:57:34 2023',\n",
              "  '__version__': '1.0',\n",
              "  '__globals__': [],\n",
              "  'ppg': array([[-1.88866651],\n",
              "         [-1.88866632],\n",
              "         [-1.88866607],\n",
              "         ...,\n",
              "         [-1.88866707],\n",
              "         [-1.88866708],\n",
              "         [-1.88866708]])},\n",
              " {'__header__': b'MATLAB 5.0 MAT-file, Platform: MACA64, Created on: Tue Nov  7 09:57:35 2023',\n",
              "  '__version__': '1.0',\n",
              "  '__globals__': [],\n",
              "  'ppg': array([[-2.43215991],\n",
              "         [-2.43208698],\n",
              "         [-2.4320034 ],\n",
              "         ...,\n",
              "         [ 0.82541842],\n",
              "         [ 1.70428264],\n",
              "         [ 2.46383378]])},\n",
              " {'__header__': b'MATLAB 5.0 MAT-file, Platform: MACA64, Created on: Tue Nov  7 09:57:35 2023',\n",
              "  '__version__': '1.0',\n",
              "  '__globals__': [],\n",
              "  'ppg': array([[-1.61000068],\n",
              "         [-1.61000068],\n",
              "         [-1.61000068],\n",
              "         ...,\n",
              "         [-7.55945874],\n",
              "         [-6.20835442],\n",
              "         [-5.40123746]])},\n",
              " {'__header__': b'MATLAB 5.0 MAT-file, Platform: MACA64, Created on: Tue Nov  7 09:57:35 2023',\n",
              "  '__version__': '1.0',\n",
              "  '__globals__': [],\n",
              "  'ppg': array([[-2.17815289],\n",
              "         [-2.17812525],\n",
              "         [-2.17809364],\n",
              "         ...,\n",
              "         [-2.17401473],\n",
              "         [-2.17409078],\n",
              "         [-2.17416532]])},\n",
              " {'__header__': b'MATLAB 5.0 MAT-file, Platform: MACA64, Created on: Tue Nov  7 09:57:35 2023',\n",
              "  '__version__': '1.0',\n",
              "  '__globals__': [],\n",
              "  'ppg': array([[-2.41739088],\n",
              "         [-2.41736257],\n",
              "         [-2.41733014],\n",
              "         ...,\n",
              "         [-2.20709127],\n",
              "         [-1.51809068],\n",
              "         [-1.69302555]])},\n",
              " {'__header__': b'MATLAB 5.0 MAT-file, Platform: MACA64, Created on: Tue Nov  7 09:57:35 2023',\n",
              "  '__version__': '1.0',\n",
              "  '__globals__': [],\n",
              "  'ppg': array([[-2.56624865],\n",
              "         [-2.56619625],\n",
              "         [-2.56613642],\n",
              "         ...,\n",
              "         [-2.80144773],\n",
              "         [-3.01860046],\n",
              "         [-3.23605701]])},\n",
              " {'__header__': b'MATLAB 5.0 MAT-file, Platform: MACA64, Created on: Tue Nov  7 09:57:35 2023',\n",
              "  '__version__': '1.0',\n",
              "  '__globals__': [],\n",
              "  'ppg': array([[-2.21719788],\n",
              "         [-2.21716274],\n",
              "         [-2.21712144],\n",
              "         ...,\n",
              "         [-0.53554014],\n",
              "         [-0.36323342],\n",
              "         [-0.24849238]])},\n",
              " {'__header__': b'MATLAB 5.0 MAT-file, Platform: MACA64, Created on: Tue Nov  7 09:57:35 2023',\n",
              "  '__version__': '1.0',\n",
              "  '__globals__': [],\n",
              "  'ppg': array([[ -2.51606698],\n",
              "         [ -2.5160113 ],\n",
              "         [ -2.51594782],\n",
              "         ...,\n",
              "         [-12.12383141],\n",
              "         [-12.46062499],\n",
              "         [-12.64152793]])},\n",
              " {'__header__': b'MATLAB 5.0 MAT-file, Platform: MACA64, Created on: Tue Nov  7 09:57:35 2023',\n",
              "  '__version__': '1.0',\n",
              "  '__globals__': [],\n",
              "  'ppg': array([[-1.88071963],\n",
              "         [-1.88071946],\n",
              "         [-1.88071924],\n",
              "         ...,\n",
              "         [-2.36140627],\n",
              "         [-3.27168585],\n",
              "         [-0.84557632]])},\n",
              " {'__header__': b'MATLAB 5.0 MAT-file, Platform: MACA64, Created on: Tue Nov  7 09:57:36 2023',\n",
              "  '__version__': '1.0',\n",
              "  '__globals__': [],\n",
              "  'ppg': array([[-2.37271823],\n",
              "         [-2.37266406],\n",
              "         [-2.37259747],\n",
              "         ...,\n",
              "         [-1.95677644],\n",
              "         [-1.31072946],\n",
              "         [-1.99101417]])},\n",
              " {'__header__': b'MATLAB 5.0 MAT-file, Platform: MACA64, Created on: Tue Nov  7 09:57:36 2023',\n",
              "  '__version__': '1.0',\n",
              "  '__globals__': [],\n",
              "  'ppg': array([[-1.98234726],\n",
              "         [-1.98233882],\n",
              "         [-1.98232786],\n",
              "         ...,\n",
              "         [-1.98216442],\n",
              "         [-1.98217104],\n",
              "         [-1.98217743]])},\n",
              " {'__header__': b'MATLAB 5.0 MAT-file, Platform: MACA64, Created on: Tue Nov  7 09:57:36 2023',\n",
              "  '__version__': '1.0',\n",
              "  '__globals__': [],\n",
              "  'ppg': array([[-2.469272  ],\n",
              "         [-2.46922243],\n",
              "         [-2.46916616],\n",
              "         ...,\n",
              "         [-2.46957188],\n",
              "         [-2.46957329],\n",
              "         [-2.46957465]])},\n",
              " {'__header__': b'MATLAB 5.0 MAT-file, Platform: MACA64, Created on: Tue Nov  7 09:57:36 2023',\n",
              "  '__version__': '1.0',\n",
              "  '__globals__': [],\n",
              "  'ppg': array([[-2.30160398],\n",
              "         [-2.30158723],\n",
              "         [-2.30156912],\n",
              "         ...,\n",
              "         [-2.2709461 ],\n",
              "         [-2.27384783],\n",
              "         [-2.26903382]])},\n",
              " {'__header__': b'MATLAB 5.0 MAT-file, Platform: MACA64, Created on: Tue Nov  7 09:57:37 2023',\n",
              "  '__version__': '1.0',\n",
              "  '__globals__': [],\n",
              "  'ppg': array([[-1.90161317],\n",
              "         [-1.90161306],\n",
              "         [-1.90161294],\n",
              "         ...,\n",
              "         [-1.90161291],\n",
              "         [-1.90161295],\n",
              "         [-1.90161298]])},\n",
              " {'__header__': b'MATLAB 5.0 MAT-file, Platform: MACA64, Created on: Tue Nov  7 09:57:37 2023',\n",
              "  '__version__': '1.0',\n",
              "  '__globals__': [],\n",
              "  'ppg': array([[-1.90042404],\n",
              "         [-1.90042391],\n",
              "         [-1.90042376],\n",
              "         ...,\n",
              "         [-1.90042396],\n",
              "         [-1.90042399],\n",
              "         [-1.90042401]])},\n",
              " {'__header__': b'MATLAB 5.0 MAT-file, Platform: MACA64, Created on: Tue Nov  7 09:57:37 2023',\n",
              "  '__version__': '1.0',\n",
              "  '__globals__': [],\n",
              "  'ppg': array([[-2.69036   ],\n",
              "         [-2.69031554],\n",
              "         [-2.69026462],\n",
              "         ...,\n",
              "         [ 6.70135321],\n",
              "         [ 7.0942836 ],\n",
              "         [ 7.03416793]])},\n",
              " {'__header__': b'MATLAB 5.0 MAT-file, Platform: MACA64, Created on: Tue Nov  7 09:57:37 2023',\n",
              "  '__version__': '1.0',\n",
              "  '__globals__': [],\n",
              "  'ppg': array([[-2.34629091],\n",
              "         [-2.34625014],\n",
              "         [-2.34619797],\n",
              "         ...,\n",
              "         [-2.34484932],\n",
              "         [-2.34488558],\n",
              "         [-2.34492091]])},\n",
              " {'__header__': b'MATLAB 5.0 MAT-file, Platform: MACA64, Created on: Tue Nov  7 09:57:37 2023',\n",
              "  '__version__': '1.0',\n",
              "  '__globals__': [],\n",
              "  'ppg': array([[-2.77368906],\n",
              "         [-2.77363022],\n",
              "         [-2.77356394],\n",
              "         ...,\n",
              "         [-2.77407914],\n",
              "         [-2.77408066],\n",
              "         [-2.77408213]])},\n",
              " {'__header__': b'MATLAB 5.0 MAT-file, Platform: MACA64, Created on: Tue Nov  7 09:57:37 2023',\n",
              "  '__version__': '1.0',\n",
              "  '__globals__': [],\n",
              "  'ppg': array([[-1.6103281],\n",
              "         [-1.6103281],\n",
              "         [-1.6103281],\n",
              "         ...,\n",
              "         [-1.6103281],\n",
              "         [-1.6103281],\n",
              "         [-1.6103281]])},\n",
              " {'__header__': b'MATLAB 5.0 MAT-file, Platform: MACA64, Created on: Tue Nov  7 09:57:37 2023',\n",
              "  '__version__': '1.0',\n",
              "  '__globals__': [],\n",
              "  'ppg': array([[-1.6057339 ],\n",
              "         [-1.6057339 ],\n",
              "         [-1.6057339 ],\n",
              "         ...,\n",
              "         [-1.6989707 ],\n",
              "         [-1.76287236],\n",
              "         [-1.80213838]])},\n",
              " {'__header__': b'MATLAB 5.0 MAT-file, Platform: MACA64, Created on: Tue Nov  7 09:57:37 2023',\n",
              "  '__version__': '1.0',\n",
              "  '__globals__': [],\n",
              "  'ppg': array([[ -1.586502  ],\n",
              "         [ -1.586502  ],\n",
              "         [ -1.586502  ],\n",
              "         ...,\n",
              "         [ -8.77089894],\n",
              "         [ -9.65335286],\n",
              "         [-10.45686778]])},\n",
              " {'__header__': b'MATLAB 5.0 MAT-file, Platform: MACA64, Created on: Tue Nov  7 09:57:43 2023',\n",
              "  '__version__': '1.0',\n",
              "  '__globals__': [],\n",
              "  'ppg': array([[-1.97547163],\n",
              "         [-1.97546698],\n",
              "         [-1.97546175],\n",
              "         ...,\n",
              "         [ 0.89273874],\n",
              "         [ 0.6372119 ],\n",
              "         [ 0.37122067]])},\n",
              " {'__header__': b'MATLAB 5.0 MAT-file, Platform: MACA64, Created on: Tue Nov  7 09:57:48 2023',\n",
              "  '__version__': '1.0',\n",
              "  '__globals__': [],\n",
              "  'ppg': array([[-1.62045278],\n",
              "         [-1.62045278],\n",
              "         [-1.62045278],\n",
              "         ...,\n",
              "         [ 0.97152604],\n",
              "         [ 0.71243596],\n",
              "         [ 0.486468  ]])},\n",
              " {'__header__': b'MATLAB 5.0 MAT-file, Platform: MACA64, Created on: Tue Nov  7 09:57:52 2023',\n",
              "  '__version__': '1.0',\n",
              "  '__globals__': [],\n",
              "  'ppg': array([[-1.88958947],\n",
              "         [-1.88958941],\n",
              "         [-1.88958935],\n",
              "         ...,\n",
              "         [ 0.18583284],\n",
              "         [ 0.17815724],\n",
              "         [ 0.17119918]])},\n",
              " {'__header__': b'MATLAB 5.0 MAT-file, Platform: MACA64, Created on: Tue Nov  7 09:57:57 2023',\n",
              "  '__version__': '1.0',\n",
              "  '__globals__': [],\n",
              "  'ppg': array([[-1.82808156],\n",
              "         [-1.82808149],\n",
              "         [-1.82808141],\n",
              "         ...,\n",
              "         [ 0.57002712],\n",
              "         [ 0.69119801],\n",
              "         [ 0.80701922]])},\n",
              " {'__header__': b'MATLAB 5.0 MAT-file, Platform: MACA64, Created on: Tue Nov  7 09:58:01 2023',\n",
              "  '__version__': '1.0',\n",
              "  '__globals__': [],\n",
              "  'ppg': array([[-1.89237652],\n",
              "         [-1.89237645],\n",
              "         [-1.89237638],\n",
              "         ...,\n",
              "         [-1.28111668],\n",
              "         [-1.29274998],\n",
              "         [-1.3039406 ]])},\n",
              " {'__header__': b'MATLAB 5.0 MAT-file, Platform: MACA64, Created on: Tue Nov  7 09:58:06 2023',\n",
              "  '__version__': '1.0',\n",
              "  '__globals__': [],\n",
              "  'ppg': array([[-1.60240503],\n",
              "         [-1.60240503],\n",
              "         [-1.60240503],\n",
              "         ...,\n",
              "         [-3.56948646],\n",
              "         [-4.82914903],\n",
              "         [-6.0966494 ]])},\n",
              " {'__header__': b'MATLAB 5.0 MAT-file, Platform: MACA64, Created on: Tue Nov  7 09:58:10 2023',\n",
              "  '__version__': '1.0',\n",
              "  '__globals__': [],\n",
              "  'ppg': array([[-2.73488211],\n",
              "         [-2.73485557],\n",
              "         [-2.7348275 ],\n",
              "         ...,\n",
              "         [ 0.74253712],\n",
              "         [ 0.71339738],\n",
              "         [ 0.68479866]])},\n",
              " {'__header__': b'MATLAB 5.0 MAT-file, Platform: MACA64, Created on: Tue Nov  7 09:58:15 2023',\n",
              "  '__version__': '1.0',\n",
              "  '__globals__': [],\n",
              "  'ppg': array([[-1.99796855],\n",
              "         [-1.99796576],\n",
              "         [-1.9979628 ],\n",
              "         ...,\n",
              "         [ 9.42115992],\n",
              "         [ 8.71587563],\n",
              "         [ 7.99515032]])},\n",
              " {'__header__': b'MATLAB 5.0 MAT-file, Platform: MACA64, Created on: Tue Nov  7 09:58:19 2023',\n",
              "  '__version__': '1.0',\n",
              "  '__globals__': [],\n",
              "  'ppg': array([[-2.00563463],\n",
              "         [-2.00563076],\n",
              "         [-2.00562658],\n",
              "         ...,\n",
              "         [-0.48949008],\n",
              "         [-0.38306784],\n",
              "         [-0.27757024]])},\n",
              " {'__header__': b'MATLAB 5.0 MAT-file, Platform: MACA64, Created on: Tue Nov  7 09:58:24 2023',\n",
              "  '__version__': '1.0',\n",
              "  '__globals__': [],\n",
              "  'ppg': array([[-1.89729749],\n",
              "         [-1.89729741],\n",
              "         [-1.89729732],\n",
              "         ...,\n",
              "         [-0.48280915],\n",
              "         [-0.50818152],\n",
              "         [-0.53412989]])},\n",
              " {'__header__': b'MATLAB 5.0 MAT-file, Platform: MACA64, Created on: Tue Nov  7 09:58:29 2023',\n",
              "  '__version__': '1.0',\n",
              "  '__globals__': [],\n",
              "  'ppg': array([[-2.03660382],\n",
              "         [-2.03660018],\n",
              "         [-2.03659628],\n",
              "         ...,\n",
              "         [ 1.34319426],\n",
              "         [ 1.30856628],\n",
              "         [ 1.27237424]])},\n",
              " {'__header__': b'MATLAB 5.0 MAT-file, Platform: MACA64, Created on: Tue Nov  7 09:58:34 2023',\n",
              "  '__version__': '1.0',\n",
              "  '__globals__': [],\n",
              "  'ppg': array([[-2.0001227 ],\n",
              "         [-2.00011925],\n",
              "         [-2.00011557],\n",
              "         ...,\n",
              "         [-3.43998434],\n",
              "         [-4.57702877],\n",
              "         [-4.90057663]])},\n",
              " {'__header__': b'MATLAB 5.0 MAT-file, Platform: MACA64, Created on: Tue Nov  7 09:58:38 2023',\n",
              "  '__version__': '1.0',\n",
              "  '__globals__': [],\n",
              "  'ppg': array([[-1.62223124],\n",
              "         [-1.62223124],\n",
              "         [-1.62223124],\n",
              "         ...,\n",
              "         [ 1.63162761],\n",
              "         [ 1.57729595],\n",
              "         [ 1.52094289]])},\n",
              " {'__header__': b'MATLAB 5.0 MAT-file, Platform: MACA64, Created on: Tue Nov  7 09:58:43 2023',\n",
              "  '__version__': '1.0',\n",
              "  '__globals__': [],\n",
              "  'ppg': array([[-1.89446695],\n",
              "         [-1.8944669 ],\n",
              "         [-1.89446684],\n",
              "         ...,\n",
              "         [ 4.82152076],\n",
              "         [ 5.26072325],\n",
              "         [ 5.45373476]])},\n",
              " {'__header__': b'MATLAB 5.0 MAT-file, Platform: MACA64, Created on: Tue Nov  7 09:58:48 2023',\n",
              "  '__version__': '1.0',\n",
              "  '__globals__': [],\n",
              "  'ppg': array([[-1.59545758],\n",
              "         [-1.59545758],\n",
              "         [-1.59545758],\n",
              "         ...,\n",
              "         [-0.14763258],\n",
              "         [-1.59874021],\n",
              "         [-1.81448571]])},\n",
              " {'__header__': b'MATLAB 5.0 MAT-file, Platform: MACA64, Created on: Tue Nov  7 09:58:53 2023',\n",
              "  '__version__': '1.0',\n",
              "  '__globals__': [],\n",
              "  'ppg': array([[-1.87347864],\n",
              "         [-1.87347857],\n",
              "         [-1.87347849],\n",
              "         ...,\n",
              "         [ 1.02270567],\n",
              "         [ 0.9621904 ],\n",
              "         [ 0.90032896]])},\n",
              " {'__header__': b'MATLAB 5.0 MAT-file, Platform: MACA64, Created on: Tue Nov  7 09:58:58 2023',\n",
              "  '__version__': '1.0',\n",
              "  '__globals__': [],\n",
              "  'ppg': array([[-2.02921375],\n",
              "         [-2.02920952],\n",
              "         [-2.02920496],\n",
              "         ...,\n",
              "         [-0.60467688],\n",
              "         [-0.49005098],\n",
              "         [-0.37222418]])},\n",
              " {'__header__': b'MATLAB 5.0 MAT-file, Platform: MACA64, Created on: Tue Nov  7 09:59:03 2023',\n",
              "  '__version__': '1.0',\n",
              "  '__globals__': [],\n",
              "  'ppg': array([[-1.85714408],\n",
              "         [-1.85714402],\n",
              "         [-1.85714395],\n",
              "         ...,\n",
              "         [ 1.2206346 ],\n",
              "         [ 1.30163116],\n",
              "         [ 1.37702495]])},\n",
              " {'__header__': b'MATLAB 5.0 MAT-file, Platform: MACA64, Created on: Tue Nov  7 09:59:08 2023',\n",
              "  '__version__': '1.0',\n",
              "  '__globals__': [],\n",
              "  'ppg': array([[-1.89886351],\n",
              "         [-1.89886346],\n",
              "         [-1.8988634 ],\n",
              "         ...,\n",
              "         [-1.43763304],\n",
              "         [-1.44615681],\n",
              "         [-1.45416007]])},\n",
              " {'__header__': b'MATLAB 5.0 MAT-file, Platform: MACA64, Created on: Tue Nov  7 09:59:13 2023',\n",
              "  '__version__': '1.0',\n",
              "  '__globals__': [],\n",
              "  'ppg': array([[-1.62902246],\n",
              "         [-1.62902246],\n",
              "         [-1.62902246],\n",
              "         ...,\n",
              "         [ 4.13468782],\n",
              "         [ 3.73180018],\n",
              "         [ 4.62394983]])},\n",
              " {'__header__': b'MATLAB 5.0 MAT-file, Platform: MACA64, Created on: Tue Nov  7 09:59:17 2023',\n",
              "  '__version__': '1.0',\n",
              "  '__globals__': [],\n",
              "  'ppg': array([[-1.61545787],\n",
              "         [-1.61545787],\n",
              "         [-1.61545787],\n",
              "         ...,\n",
              "         [-0.53800161],\n",
              "         [-0.69512786],\n",
              "         [-0.88746728]])},\n",
              " {'__header__': b'MATLAB 5.0 MAT-file, Platform: MACA64, Created on: Tue Nov  7 09:59:22 2023',\n",
              "  '__version__': '1.0',\n",
              "  '__globals__': [],\n",
              "  'ppg': array([[-1.90619688],\n",
              "         [-1.90619683],\n",
              "         [-1.90619676],\n",
              "         ...,\n",
              "         [-5.78169415],\n",
              "         [-4.88961823],\n",
              "         [-4.5530757 ]])},\n",
              " {'__header__': b'MATLAB 5.0 MAT-file, Platform: MACA64, Created on: Tue Nov  7 09:59:26 2023',\n",
              "  '__version__': '1.0',\n",
              "  '__globals__': [],\n",
              "  'ppg': array([[-1.58803542],\n",
              "         [-1.58803542],\n",
              "         [-1.58803542],\n",
              "         ...,\n",
              "         [ 2.02565497],\n",
              "         [ 1.98506781],\n",
              "         [ 1.93942176]])},\n",
              " {'__header__': b'MATLAB 5.0 MAT-file, Platform: MACA64, Created on: Tue Nov  7 09:59:31 2023',\n",
              "  '__version__': '1.0',\n",
              "  '__globals__': [],\n",
              "  'ppg': array([[-2.68100489],\n",
              "         [-2.68096813],\n",
              "         [-2.68092856],\n",
              "         ...,\n",
              "         [-0.50905769],\n",
              "         [-0.54228426],\n",
              "         [-0.57566911]])},\n",
              " {'__header__': b'MATLAB 5.0 MAT-file, Platform: MACA64, Created on: Tue Nov  7 09:59:36 2023',\n",
              "  '__version__': '1.0',\n",
              "  '__globals__': [],\n",
              "  'ppg': array([[-1.61276318],\n",
              "         [-1.61276318],\n",
              "         [-1.61276318],\n",
              "         ...,\n",
              "         [-0.18533662],\n",
              "         [ 0.37906464],\n",
              "         [-0.17751355]])},\n",
              " {'__header__': b'MATLAB 5.0 MAT-file, Platform: MACA64, Created on: Tue Nov  7 09:59:40 2023',\n",
              "  '__version__': '1.0',\n",
              "  '__globals__': [],\n",
              "  'ppg': array([[-1.86031877],\n",
              "         [-1.86031871],\n",
              "         [-1.86031864],\n",
              "         ...,\n",
              "         [15.38625982],\n",
              "         [14.35132895],\n",
              "         [13.18403952]])},\n",
              " {'__header__': b'MATLAB 5.0 MAT-file, Platform: MACA64, Created on: Tue Nov  7 09:59:45 2023',\n",
              "  '__version__': '1.0',\n",
              "  '__globals__': [],\n",
              "  'ppg': array([[-1.85940245],\n",
              "         [-1.8594024 ],\n",
              "         [-1.85940234],\n",
              "         ...,\n",
              "         [-3.50915156],\n",
              "         [-3.59317326],\n",
              "         [-3.54817492]])},\n",
              " {'__header__': b'MATLAB 5.0 MAT-file, Platform: MACA64, Created on: Tue Nov  7 09:59:50 2023',\n",
              "  '__version__': '1.0',\n",
              "  '__globals__': [],\n",
              "  'ppg': array([[-2.00951507],\n",
              "         [-2.00951122],\n",
              "         [-2.00950703],\n",
              "         ...,\n",
              "         [-1.54227657],\n",
              "         [-1.55468069],\n",
              "         [-1.56672961]])},\n",
              " {'__header__': b'MATLAB 5.0 MAT-file, Platform: MACA64, Created on: Tue Nov  7 09:59:55 2023',\n",
              "  '__version__': '1.0',\n",
              "  '__globals__': [],\n",
              "  'ppg': array([[-1.94630539],\n",
              "         [-1.94630113],\n",
              "         [-1.94629645],\n",
              "         ...,\n",
              "         [-0.61705771],\n",
              "         [-0.6382719 ],\n",
              "         [-0.65952298]])},\n",
              " {'__header__': b'MATLAB 5.0 MAT-file, Platform: MACA64, Created on: Tue Nov  7 10:00:00 2023',\n",
              "  '__version__': '1.0',\n",
              "  '__globals__': [],\n",
              "  'ppg': array([[-2.01857612],\n",
              "         [-2.01857236],\n",
              "         [-2.01856833],\n",
              "         ...,\n",
              "         [-0.84707053],\n",
              "         [-0.57910129],\n",
              "         [-0.05679773]])},\n",
              " {'__header__': b'MATLAB 5.0 MAT-file, Platform: MACA64, Created on: Tue Nov  7 10:00:04 2023',\n",
              "  '__version__': '1.0',\n",
              "  '__globals__': [],\n",
              "  'ppg': array([[-1.91865598],\n",
              "         [-1.91865594],\n",
              "         [-1.91865589],\n",
              "         ...,\n",
              "         [ 0.16432783],\n",
              "         [ 0.17439306],\n",
              "         [ 0.18413518]])},\n",
              " {'__header__': b'MATLAB 5.0 MAT-file, Platform: MACA64, Created on: Tue Nov  7 10:00:09 2023',\n",
              "  '__version__': '1.0',\n",
              "  '__globals__': [],\n",
              "  'ppg': array([[ -1.58848824],\n",
              "         [ -1.58848824],\n",
              "         [ -1.58848824],\n",
              "         ...,\n",
              "         [-13.18413048],\n",
              "         [-13.02440715],\n",
              "         [-12.93423605]])},\n",
              " {'__header__': b'MATLAB 5.0 MAT-file, Platform: MACA64, Created on: Tue Nov  7 10:00:13 2023',\n",
              "  '__version__': '1.0',\n",
              "  '__globals__': [],\n",
              "  'ppg': array([[-2.05432057],\n",
              "         [-2.05431715],\n",
              "         [-2.05431348],\n",
              "         ...,\n",
              "         [83.38421962],\n",
              "         [82.65355829],\n",
              "         [80.87570351]])},\n",
              " {'__header__': b'MATLAB 5.0 MAT-file, Platform: MACA64, Created on: Tue Nov  7 10:00:18 2023',\n",
              "  '__version__': '1.0',\n",
              "  '__globals__': [],\n",
              "  'ppg': array([[-2.0350231 ],\n",
              "         [-2.03501942],\n",
              "         [-2.03501549],\n",
              "         ...,\n",
              "         [-1.10136478],\n",
              "         [-1.11493037],\n",
              "         [-1.12816966]])},\n",
              " {'__header__': b'MATLAB 5.0 MAT-file, Platform: MACA64, Created on: Tue Nov  7 10:00:23 2023',\n",
              "  '__version__': '1.0',\n",
              "  '__globals__': [],\n",
              "  'ppg': array([[-1.60795585],\n",
              "         [-1.60795585],\n",
              "         [-1.60795585],\n",
              "         ...,\n",
              "         [ 0.00623943],\n",
              "         [-0.01811628],\n",
              "         [-0.03842683]])},\n",
              " {'__header__': b'MATLAB 5.0 MAT-file, Platform: MACA64, Created on: Tue Nov  7 10:00:28 2023',\n",
              "  '__version__': '1.0',\n",
              "  '__globals__': [],\n",
              "  'ppg': array([[-1.88161783],\n",
              "         [-1.88161777],\n",
              "         [-1.88161771],\n",
              "         ...,\n",
              "         [ 1.76729584],\n",
              "         [ 1.80340798],\n",
              "         [ 1.83620308]])},\n",
              " {'__header__': b'MATLAB 5.0 MAT-file, Platform: MACA64, Created on: Tue Nov  7 10:00:33 2023',\n",
              "  '__version__': '1.0',\n",
              "  '__globals__': [],\n",
              "  'ppg': array([[-1.8855501 ],\n",
              "         [-1.88555004],\n",
              "         [-1.88554997],\n",
              "         ...,\n",
              "         [-0.69705565],\n",
              "         [-0.72011565],\n",
              "         [-0.74310604]])},\n",
              " {'__header__': b'MATLAB 5.0 MAT-file, Platform: MACA64, Created on: Tue Nov  7 10:00:37 2023',\n",
              "  '__version__': '1.0',\n",
              "  '__globals__': [],\n",
              "  'ppg': array([[-1.89374879],\n",
              "         [-1.89374874],\n",
              "         [-1.89374868],\n",
              "         ...,\n",
              "         [ 0.91671602],\n",
              "         [ 1.00568043],\n",
              "         [ 1.08897644]])},\n",
              " {'__header__': b'MATLAB 5.0 MAT-file, Platform: MACA64, Created on: Tue Nov  7 10:00:42 2023',\n",
              "  '__version__': '1.0',\n",
              "  '__globals__': [],\n",
              "  'ppg': array([[-1.59364841],\n",
              "         [-1.59364841],\n",
              "         [-1.59364841],\n",
              "         ...,\n",
              "         [ 0.06557594],\n",
              "         [ 0.06810869],\n",
              "         [ 0.06969828]])},\n",
              " {'__header__': b'MATLAB 5.0 MAT-file, Platform: MACA64, Created on: Tue Nov  7 10:00:47 2023',\n",
              "  '__version__': '1.0',\n",
              "  '__globals__': [],\n",
              "  'ppg': array([[-1.61849421],\n",
              "         [-1.61849421],\n",
              "         [-1.61849421],\n",
              "         ...,\n",
              "         [ 0.74149282],\n",
              "         [ 0.83153116],\n",
              "         [ 0.91074586]])},\n",
              " {'__header__': b'MATLAB 5.0 MAT-file, Platform: MACA64, Created on: Tue Nov  7 10:00:51 2023',\n",
              "  '__version__': '1.0',\n",
              "  '__globals__': [],\n",
              "  'ppg': array([[-1.60638413],\n",
              "         [-1.60638413],\n",
              "         [-1.60638413],\n",
              "         ...,\n",
              "         [-1.14437846],\n",
              "         [-1.16984146],\n",
              "         [-1.19442198]])},\n",
              " {'__header__': b'MATLAB 5.0 MAT-file, Platform: MACA64, Created on: Tue Nov  7 10:00:55 2023',\n",
              "  '__version__': '1.0',\n",
              "  '__globals__': [],\n",
              "  'ppg': array([[-2.75613912],\n",
              "         [-2.75611074],\n",
              "         [-2.75608046],\n",
              "         ...,\n",
              "         [-0.81640675],\n",
              "         [-0.84117484],\n",
              "         [-0.86586426]])},\n",
              " {'__header__': b'MATLAB 5.0 MAT-file, Platform: MACA64, Created on: Tue Nov  7 10:01:00 2023',\n",
              "  '__version__': '1.0',\n",
              "  '__globals__': [],\n",
              "  'ppg': array([[-1.60925542],\n",
              "         [-1.60925542],\n",
              "         [-1.60925542],\n",
              "         ...,\n",
              "         [-1.00945362],\n",
              "         [-1.03312222],\n",
              "         [-1.05403405]])}]"
            ]
          },
          "metadata": {},
          "execution_count": 11
        }
      ]
    },
    {
      "cell_type": "markdown",
      "source": [
        "##Droping files with all normal beats"
      ],
      "metadata": {
        "id": "Tl2bfjGi-20X"
      }
    },
    {
      "cell_type": "code",
      "source": [
        "# Function to check if all annotations are 'N'\n",
        "def all_annotations_N(annotations):\n",
        "    labels = annotations.get('labels', [])\n",
        "    return all(label == 'N' for label in labels)\n",
        "\n",
        "# Collect file names with all 'N' annotations\n",
        "files_with_all_N = [os.path.basename(data[i]) for i, ann in enumerate(ann_data) if all_annotations_N(ann)]\n",
        "\n",
        "# Print file names with all 'N' annotations\n",
        "print(\"Files with all 'N' annotations:\", files_with_all_N)"
      ],
      "metadata": {
        "colab": {
          "base_uri": "https://localhost:8080/"
        },
        "id": "QWGMUFyFSjAy",
        "outputId": "af3a16c9-e3c6-49d4-e0b9-d6f2c4b25797"
      },
      "execution_count": 12,
      "outputs": [
        {
          "output_type": "stream",
          "name": "stdout",
          "text": [
            "Files with all 'N' annotations: ['S085_250.mat', 'S092_250.mat', 'S095_250.mat', 'S096_250.mat', 'S104_250.mat', 'S105_250.mat', 'S107_250.mat', 'S108_250.mat', 'S110_250.mat', 'S111_250.mat', 'S115_250.mat', 'S119_250.mat', 'S120_250.mat', 'S121_250.mat']\n"
          ]
        }
      ]
    },
    {
      "cell_type": "code",
      "source": [
        "files_with_all_N"
      ],
      "metadata": {
        "colab": {
          "base_uri": "https://localhost:8080/"
        },
        "id": "UKc77RNsS1Qu",
        "outputId": "cd577fa7-e5d2-49b4-fa8c-b2f9561657b0"
      },
      "execution_count": 13,
      "outputs": [
        {
          "output_type": "execute_result",
          "data": {
            "text/plain": [
              "['S085_250.mat',\n",
              " 'S092_250.mat',\n",
              " 'S095_250.mat',\n",
              " 'S096_250.mat',\n",
              " 'S104_250.mat',\n",
              " 'S105_250.mat',\n",
              " 'S107_250.mat',\n",
              " 'S108_250.mat',\n",
              " 'S110_250.mat',\n",
              " 'S111_250.mat',\n",
              " 'S115_250.mat',\n",
              " 'S119_250.mat',\n",
              " 'S120_250.mat',\n",
              " 'S121_250.mat']"
            ]
          },
          "metadata": {},
          "execution_count": 13
        }
      ]
    },
    {
      "cell_type": "code",
      "source": [
        "count_files_with_all_N = len(files_with_all_N)\n",
        "count_files_with_all_N\n"
      ],
      "metadata": {
        "colab": {
          "base_uri": "https://localhost:8080/"
        },
        "id": "VHdWIjC5TiMg",
        "outputId": "38887fac-d4e9-403b-928d-37411b544460"
      },
      "execution_count": 14,
      "outputs": [
        {
          "output_type": "execute_result",
          "data": {
            "text/plain": [
              "14"
            ]
          },
          "metadata": {},
          "execution_count": 14
        }
      ]
    },
    {
      "cell_type": "code",
      "source": [
        "import scipy.io\n",
        "# Load the .mat file\n",
        "mat_file_path = '/gdrive/My Drive/train/S121_250_ann.mat'\n",
        "mat_contents = scipy.io.loadmat(mat_file_path)\n",
        "\n",
        "# Extract the 'labels' data\n",
        "labels_data = mat_contents['labels']\n",
        "\n",
        "# Display the contents of 'labels'\n",
        "print(labels_data[2200:2500])  # View the first 100 entries\n"
      ],
      "metadata": {
        "colab": {
          "base_uri": "https://localhost:8080/"
        },
        "id": "bOtNKD6WWNSj",
        "outputId": "c6148a10-b7e4-478a-e04a-47f8fd4207da"
      },
      "execution_count": 15,
      "outputs": [
        {
          "output_type": "stream",
          "name": "stdout",
          "text": [
            "['N' 'N' 'N' 'N' 'N' 'N' 'N' 'N' 'N' 'N' 'N' 'N' 'N' 'N' 'N' 'N' 'N' 'N'\n",
            " 'N' 'N' 'N' 'N' 'N' 'N' 'N' 'N' 'N' 'N' 'N' 'N' 'N' 'N' 'N' 'N' 'N' 'N'\n",
            " 'N' 'N' 'N' 'N' 'N' 'N' 'N' 'N' 'N' 'N' 'N' 'N' 'N' 'N' 'N' 'N' 'N' 'N'\n",
            " 'N' 'N' 'N' 'N' 'N' 'N' 'N' 'N' 'N' 'N' 'N' 'N' 'N' 'N' 'N' 'N' 'N' 'N'\n",
            " 'N' 'N' 'N' 'N' 'N' 'N' 'N' 'N' 'N' 'N' 'N' 'N' 'N' 'N' 'N' 'N' 'N' 'N'\n",
            " 'N' 'N' 'N' 'N' 'N' 'N' 'N' 'N' 'N' 'N' 'N' 'N' 'N' 'N' 'N' 'N' 'N' 'N'\n",
            " 'N' 'N' 'N' 'N' 'N' 'N' 'N' 'N' 'N' 'N' 'N' 'N' 'N' 'N' 'N' 'N' 'N' 'N'\n",
            " 'N' 'N' 'N' 'N' 'N' 'N' 'N' 'N' 'N' 'N' 'N' 'N' 'N' 'N' 'N' 'N' 'N' 'N'\n",
            " 'N' 'N' 'N' 'N' 'N' 'N' 'N' 'N' 'N' 'N' 'N' 'N' 'N' 'N' 'N' 'N' 'N' 'N'\n",
            " 'N' 'N' 'N' 'N' 'N' 'N' 'N' 'N' 'N' 'N' 'N' 'N' 'N' 'N' 'N' 'N' 'N' 'N'\n",
            " 'N' 'N' 'N' 'N' 'N' 'N' 'N' 'N' 'N' 'N' 'N' 'N' 'N' 'N' 'N' 'N' 'N' 'N'\n",
            " 'N' 'N' 'N' 'N' 'N' 'N' 'N' 'N' 'N' 'N' 'N' 'N' 'N' 'N' 'N' 'N' 'N' 'N'\n",
            " 'N' 'N' 'N' 'N' 'N' 'N' 'N' 'N' 'N' 'N' 'N' 'N' 'N' 'N' 'N' 'N' 'N' 'N'\n",
            " 'N' 'N' 'N' 'N' 'N' 'N' 'N' 'N' 'N' 'N' 'N' 'N' 'N' 'N' 'N' 'N' 'N' 'N'\n",
            " 'N' 'N' 'N' 'N' 'N' 'N' 'N' 'N' 'N' 'N' 'N' 'N' 'N' 'N' 'N' 'N' 'N' 'N'\n",
            " 'N' 'N' 'N' 'N' 'N' 'N' 'N' 'N' 'N' 'N' 'N' 'N' 'N' 'N' 'N' 'N' 'N' 'N'\n",
            " 'N' 'N' 'N' 'N' 'N' 'N' 'N' 'N' 'N' 'N' 'N' 'N']\n"
          ]
        }
      ]
    },
    {
      "cell_type": "code",
      "source": [
        "filtered_files_updated = [file for file in filtered_files if os.path.basename(file) not in files_with_all_N]\n",
        "\n",
        "# Print the updated list of filtered files\n",
        "print(\"Updated filtered files:\", filtered_files_updated)"
      ],
      "metadata": {
        "colab": {
          "base_uri": "https://localhost:8080/"
        },
        "id": "jNOQalkFXCzT",
        "outputId": "29b1fa52-981c-409b-ae74-6bb49f0d96f8"
      },
      "execution_count": 16,
      "outputs": [
        {
          "output_type": "stream",
          "name": "stdout",
          "text": [
            "Updated filtered files: ['S001_128.mat', 'S002_128.mat', 'S003_128.mat', 'S004_128.mat', 'S005_128.mat', 'S006_128.mat', 'S007_128.mat', 'S008_128.mat', 'S009_128.mat', 'S010_128.mat', 'S011_128.mat', 'S012_128.mat', 'S013_128.mat', 'S014_128.mat', 'S015_128.mat', 'S016_128.mat', 'S017_128.mat', 'S018_128.mat', 'S019_128.mat', 'S020_128.mat', 'S021_128.mat', 'S022_128.mat', 'S023_128.mat', 'S024_128.mat', 'S025_128.mat', 'S026_128.mat', 'S027_128.mat', 'S028_128.mat', 'S029_128.mat', 'S030_128.mat', 'S031_128.mat', 'S032_128.mat', 'S033_128.mat', 'S034_128.mat', 'S035_128.mat', 'S036_128.mat', 'S037_128.mat', 'S038_128.mat', 'S039_128.mat', 'S040_128.mat', 'S041_128.mat', 'S042_128.mat', 'S043_128.mat', 'S044_128.mat', 'S045_128.mat', 'S046_128.mat', 'S047_128.mat', 'S048_128.mat', 'S049_128.mat', 'S050_128.mat', 'S051_128.mat', 'S052_128.mat', 'S053_128.mat', 'S054_128.mat', 'S055_128.mat', 'S056_128.mat', 'S057_128.mat', 'S058_128.mat', 'S059_128.mat', 'S060_128.mat', 'S061_128.mat', 'S062_128.mat', 'S079_250.mat', 'S080_250.mat', 'S081_250.mat', 'S082_250.mat', 'S083_250.mat', 'S084_250.mat', 'S086_250.mat', 'S087_250.mat', 'S088_250.mat', 'S089_250.mat', 'S090_250.mat', 'S091_250.mat', 'S093_250.mat', 'S094_250.mat', 'S097_250.mat', 'S098_250.mat', 'S099_250.mat', 'S100_250.mat', 'S101_250.mat', 'S102_250.mat', 'S103_250.mat', 'S106_250.mat', 'S109_250.mat', 'S112_250.mat', 'S113_250.mat', 'S114_250.mat', 'S116_250.mat', 'S117_250.mat', 'S118_250.mat']\n"
          ]
        }
      ]
    },
    {
      "cell_type": "code",
      "source": [
        "len(filtered_files_updated)"
      ],
      "metadata": {
        "colab": {
          "base_uri": "https://localhost:8080/"
        },
        "id": "rhJ_lvcuct6O",
        "outputId": "3010f8d0-1ff0-4d14-e740-07696361e4bc"
      },
      "execution_count": 17,
      "outputs": [
        {
          "output_type": "execute_result",
          "data": {
            "text/plain": [
              "91"
            ]
          },
          "metadata": {},
          "execution_count": 17
        }
      ]
    },
    {
      "cell_type": "markdown",
      "source": [
        "##Unifying the sampling frequency"
      ],
      "metadata": {
        "id": "jB2R8FeLBwBC"
      }
    },
    {
      "cell_type": "code",
      "source": [
        "# Initialize counters\n",
        "count_128 = 0\n",
        "count_250 = 0\n",
        "\n",
        "# Iterate over the list of filenames and count frequencies\n",
        "for filename in filtered_files_updated:\n",
        "    freq = ppg_freq(filename)\n",
        "    if freq == 128:\n",
        "        count_128 += 1\n",
        "    elif freq == 250:\n",
        "        count_250 += 1\n",
        "\n",
        "# Print the results\n",
        "print(f\"Number of files with 128 Hz sampling frequency: {count_128}\")\n",
        "print(f\"Number of files with 250 Hz sampling frequency: {count_250}\")"
      ],
      "metadata": {
        "colab": {
          "base_uri": "https://localhost:8080/"
        },
        "id": "Th5a9yGGBvqE",
        "outputId": "c391c983-5967-4761-d572-659fb1c6b0d3"
      },
      "execution_count": 18,
      "outputs": [
        {
          "output_type": "stream",
          "name": "stdout",
          "text": [
            "Number of files with 128 Hz sampling frequency: 62\n",
            "Number of files with 250 Hz sampling frequency: 29\n"
          ]
        }
      ]
    },
    {
      "cell_type": "code",
      "source": [
        "# Plot the counts\n",
        "frequencies = ['128 Hz', '250 Hz']\n",
        "counts = [count_128, count_250]\n",
        "\n",
        "plt.figure(figsize=(8, 6))\n",
        "plt.bar(frequencies, counts, color=['blue', 'green'])\n",
        "plt.xlabel('Sampling Frequency')\n",
        "plt.ylabel('Number of Files')\n",
        "plt.title('Counts of Files by Sampling Frequency')\n",
        "plt.show()"
      ],
      "metadata": {
        "colab": {
          "base_uri": "https://localhost:8080/",
          "height": 564
        },
        "id": "0efUZJDVCVDS",
        "outputId": "66b3ede5-4b51-4c05-f8b5-1d2bc3434b75"
      },
      "execution_count": 19,
      "outputs": [
        {
          "output_type": "display_data",
          "data": {
            "text/plain": [
              "<Figure size 800x600 with 1 Axes>"
            ],
            "image/png": "[encoded data removed]"
          },
          "metadata": {}
        }
      ]
    },
    {
      "cell_type": "markdown",
      "source": [
        "##Splitting the data into two groups"
      ],
      "metadata": {
        "id": "4FqtHkKG-GHv"
      }
    },
    {
      "cell_type": "code",
      "source": [
        "# List to store the percentage of 'N' annotations for each file\n",
        "n_annotations_percentage = []\n",
        "\n",
        "# Process each file in filtered_files_updated\n",
        "for file in filtered_files_updated:\n",
        "    _, _, ann = load_data(path_to_data + '/' + file)\n",
        "    labels = ann.get('labels', [])\n",
        "    if len(labels) > 0:\n",
        "        n_count = np.sum(labels == 'N')\n",
        "        total_count = len(labels)\n",
        "        percentage_n = (n_count / total_count) * 100\n",
        "        n_annotations_percentage.append(percentage_n)\n",
        "\n",
        "# Compute statistics\n",
        "max_n_percentage = np.max(n_annotations_percentage)\n",
        "min_n_percentage = np.min(n_annotations_percentage)\n",
        "median_n_percentage = np.median(n_annotations_percentage)\n",
        "average_n_percentage = np.mean(n_annotations_percentage)\n",
        "total_n_percentage = np.sum(n_annotations_percentage)\n",
        "\n",
        "# Print statistics\n",
        "print(f\"Maximum percentage of 'N' annotations: {max_n_percentage:.2f}%\")\n",
        "print(f\"Minimum percentage of 'N' annotations: {min_n_percentage:.2f}%\")\n",
        "print(f\"Median percentage of 'N' annotations: {median_n_percentage:.2f}%\")\n",
        "print(f\"Average percentage of 'N' annotations: {average_n_percentage:.2f}%\")\n",
        "print(f\"Total percentage of 'N' annotations: {total_n_percentage:.2f}%\")"
      ],
      "metadata": {
        "colab": {
          "base_uri": "https://localhost:8080/"
        },
        "id": "ZQY0tn5LeprZ",
        "outputId": "990ef2f1-6326-41ed-ecc2-e08441e4effc"
      },
      "execution_count": 20,
      "outputs": [
        {
          "output_type": "stream",
          "name": "stdout",
          "text": [
            "Maximum percentage of 'N' annotations: 99.97%\n",
            "Minimum percentage of 'N' annotations: 35.04%\n",
            "Median percentage of 'N' annotations: 96.54%\n",
            "Average percentage of 'N' annotations: 92.40%\n",
            "Total percentage of 'N' annotations: 8408.34%\n"
          ]
        }
      ]
    },
    {
      "cell_type": "code",
      "source": [
        "# Determine the threshold, for example using the median\n",
        "threshold = np.median(n_annotations_percentage)\n",
        "\n",
        "# Group patients based on the threshold\n",
        "dominantly_n_files = [file for i, file in enumerate(filtered_files_updated) if n_annotations_percentage[i] >= threshold]\n",
        "few_n_files = [file for i, file in enumerate(filtered_files_updated) if n_annotations_percentage[i] < threshold]\n",
        "\n",
        "# Print the threshold and grouped files\n",
        "print(f\"Threshold for percentage of 'N' annotations: {threshold:.2f}%\")\n",
        "print(f\"Files with dominantly 'N' annotations: {dominantly_n_files}\")\n",
        "print(f\"Files with fewer 'N' annotations: {few_n_files}\")"
      ],
      "metadata": {
        "colab": {
          "base_uri": "https://localhost:8080/"
        },
        "id": "htjgPSkj5w6u",
        "outputId": "8b763963-e5be-42a0-fe2a-24dc1b862a22"
      },
      "execution_count": 21,
      "outputs": [
        {
          "output_type": "stream",
          "name": "stdout",
          "text": [
            "Threshold for percentage of 'N' annotations: 96.54%\n",
            "Files with dominantly 'N' annotations: ['S003_128.mat', 'S006_128.mat', 'S013_128.mat', 'S015_128.mat', 'S017_128.mat', 'S022_128.mat', 'S023_128.mat', 'S024_128.mat', 'S028_128.mat', 'S033_128.mat', 'S035_128.mat', 'S037_128.mat', 'S038_128.mat', 'S042_128.mat', 'S046_128.mat', 'S050_128.mat', 'S055_128.mat', 'S056_128.mat', 'S059_128.mat', 'S060_128.mat', 'S061_128.mat', 'S079_250.mat', 'S080_250.mat', 'S081_250.mat', 'S082_250.mat', 'S083_250.mat', 'S084_250.mat', 'S087_250.mat', 'S088_250.mat', 'S089_250.mat', 'S090_250.mat', 'S091_250.mat', 'S093_250.mat', 'S094_250.mat', 'S097_250.mat', 'S098_250.mat', 'S099_250.mat', 'S100_250.mat', 'S101_250.mat', 'S103_250.mat', 'S109_250.mat', 'S112_250.mat', 'S113_250.mat', 'S114_250.mat', 'S116_250.mat', 'S118_250.mat']\n",
            "Files with fewer 'N' annotations: ['S001_128.mat', 'S002_128.mat', 'S004_128.mat', 'S005_128.mat', 'S007_128.mat', 'S008_128.mat', 'S009_128.mat', 'S010_128.mat', 'S011_128.mat', 'S012_128.mat', 'S014_128.mat', 'S016_128.mat', 'S018_128.mat', 'S019_128.mat', 'S020_128.mat', 'S021_128.mat', 'S025_128.mat', 'S026_128.mat', 'S027_128.mat', 'S029_128.mat', 'S030_128.mat', 'S031_128.mat', 'S032_128.mat', 'S034_128.mat', 'S036_128.mat', 'S039_128.mat', 'S040_128.mat', 'S041_128.mat', 'S043_128.mat', 'S044_128.mat', 'S045_128.mat', 'S047_128.mat', 'S048_128.mat', 'S049_128.mat', 'S051_128.mat', 'S052_128.mat', 'S053_128.mat', 'S054_128.mat', 'S057_128.mat', 'S058_128.mat', 'S062_128.mat', 'S086_250.mat', 'S102_250.mat', 'S106_250.mat', 'S117_250.mat']\n"
          ]
        }
      ]
    },
    {
      "cell_type": "code",
      "source": [
        "len(dominantly_n_files), len(few_n_files)"
      ],
      "metadata": {
        "colab": {
          "base_uri": "https://localhost:8080/"
        },
        "id": "-lU7Pjgb6ZuZ",
        "outputId": "937161b1-abbd-4243-85c9-0aa20dfd6378"
      },
      "execution_count": 22,
      "outputs": [
        {
          "output_type": "execute_result",
          "data": {
            "text/plain": [
              "(46, 45)"
            ]
          },
          "metadata": {},
          "execution_count": 22
        }
      ]
    },
    {
      "cell_type": "markdown",
      "source": [
        "##Splitting the data into training,Testing,Validation Sets"
      ],
      "metadata": {
        "id": "FyWPiT0x96AO"
      }
    },
    {
      "cell_type": "code",
      "source": [
        "# Function to split data into train, test, and validation sets\n",
        "def split_data(files, train_size=0.7, test_size=0.2, val_size=0.1):\n",
        "    train_files, test_val_files = train_test_split(files, train_size=train_size, random_state=42)\n",
        "    test_files, val_files = train_test_split(test_val_files, test_size=val_size/(test_size + val_size), random_state=42)\n",
        "    return train_files, test_files, val_files\n",
        "\n",
        "# Split each group\n",
        "dominantly_n_train, dominantly_n_test, dominantly_n_val = split_data(dominantly_n_files)\n",
        "few_n_train, few_n_test, few_n_val = split_data(few_n_files)\n",
        "\n",
        "# Combine the groups\n",
        "train_files = dominantly_n_train + few_n_train\n",
        "test_files = dominantly_n_test + few_n_test\n",
        "val_files = dominantly_n_val + few_n_val\n",
        "\n",
        "# Print the number of files in each set\n",
        "print(f\"Number of training files: {len(train_files)}\")\n",
        "print(f\"Number of testing files: {len(test_files)}\")\n",
        "print(f\"Number of validation files: {len(val_files)}\")\n"
      ],
      "metadata": {
        "colab": {
          "base_uri": "https://localhost:8080/"
        },
        "id": "8UM2723C7qSn",
        "outputId": "8501a4c8-0cda-46ec-ceca-34188f39a986"
      },
      "execution_count": 23,
      "outputs": [
        {
          "output_type": "stream",
          "name": "stdout",
          "text": [
            "Number of training files: 63\n",
            "Number of testing files: 18\n",
            "Number of validation files: 10\n"
          ]
        }
      ]
    },
    {
      "cell_type": "code",
      "execution_count": 24,
      "metadata": {
        "id": "tI65XqvztrI4"
      },
      "outputs": [],
      "source": [
        "train = []\n",
        "ppg_train = []\n",
        "spk_train = []\n",
        "ann_train = []\n",
        "\n",
        "\n",
        "for file in train_files:\n",
        "  ppg, spk, ann = load_data(path_to_data + '/' + file)\n",
        "  ppg_train.append(ppg)\n",
        "  spk_train.append(spk)\n",
        "  ann_train.append(ann)\n",
        "\n",
        "  train.append(path_to_data + '/' + file)"
      ]
    },
    {
      "cell_type": "code",
      "source": [
        "testing = []\n",
        "ppg_testing = []\n",
        "spk_testing = []\n",
        "ann_testing = []\n",
        "\n",
        "for file in test_files:\n",
        "\n",
        "  ppg, spk, ann = load_data(path_to_data + '/' + file)\n",
        "  ppg_testing.append(ppg)\n",
        "  spk_testing.append(spk)\n",
        "  ann_testing.append(ann)\n",
        "\n",
        "  testing.append(path_to_data + '/' + file)"
      ],
      "metadata": {
        "id": "H3LysB3z8jeW"
      },
      "execution_count": 25,
      "outputs": []
    },
    {
      "cell_type": "code",
      "execution_count": 26,
      "metadata": {
        "id": "Lr6F7mJEuydx"
      },
      "outputs": [],
      "source": [
        "validation = []\n",
        "ppg_validation = []\n",
        "spk_validation = []\n",
        "ann_validation = []\n",
        "\n",
        "for file in val_files:\n",
        "\n",
        "  ppg, spk, ann = load_data(path_to_data + '/' + file)\n",
        "  ppg_validation.append(ppg)\n",
        "  spk_validation.append(spk)\n",
        "  ann_validation.append(ann)\n",
        "\n",
        "  validation.append(path_to_data + '/' + file)"
      ]
    },
    {
      "cell_type": "markdown",
      "source": [
        "**Ratio between labels **"
      ],
      "metadata": {
        "id": "3q6WVbROCcrB"
      }
    },
    {
      "cell_type": "code",
      "source": [
        "from collections import Counter\n",
        "import numpy as np\n",
        "\n",
        "# Initialize an empty Counter to hold label counts\n",
        "label_counter = Counter()\n",
        "\n",
        "# Iterate through each dictionary in ann_train\n",
        "for ann in ann_train:\n",
        "    labels = ann['labels']\n",
        "    # Update the counter with labels from the current dictionary\n",
        "    label_counter.update(labels)\n",
        "\n",
        "# Print the total counts for each label\n",
        "print(\"Counts of each label:\", dict(label_counter))\n",
        "\n",
        "# Optionally, convert the Counter to a dictionary and plot the counts\n",
        "labels, counts = zip(*label_counter.items())\n",
        "\n",
        "# Plotting the counts\n",
        "import matplotlib.pyplot as plt\n",
        "\n",
        "plt.figure(figsize=(8, 6))\n",
        "plt.bar(labels, counts, color='blue')\n",
        "plt.xlabel('Class Labels')\n",
        "plt.ylabel('Number of Samples')\n",
        "plt.title('Class Distribution in ann_train')\n",
        "plt.show()"
      ],
      "metadata": {
        "colab": {
          "base_uri": "https://localhost:8080/",
          "height": 581
        },
        "id": "-SSwauxzDEZN",
        "outputId": "16509b6f-ffc1-4600-80e7-8e5704abf488"
      },
      "execution_count": 27,
      "outputs": [
        {
          "output_type": "stream",
          "name": "stdout",
          "text": [
            "Counts of each label: {'N': 136867, 'S': 5345, 'V': 5658}\n"
          ]
        },
        {
          "output_type": "display_data",
          "data": {
            "text/plain": [
              "<Figure size 800x600 with 1 Axes>"
            ],
            "image/png": "[encoded data removed]"
          },
          "metadata": {}
        }
      ]
    },
    {
      "cell_type": "code",
      "execution_count": 28,
      "metadata": {
        "colab": {
          "base_uri": "https://localhost:8080/"
        },
        "id": "NZFViw9bu03s",
        "outputId": "2b4280ab-6591-44dd-dc04-23d14b20a730"
      },
      "outputs": [
        {
          "output_type": "stream",
          "name": "stdout",
          "text": [
            "Collecting neurokit2\n",
            "  Downloading neurokit2-0.2.9-py2.py3-none-any.whl (689 kB)\n",
            "\u001b[2K     \u001b[90m━━━━━━━━━━━━━━━━━━━━━━━━━━━━━━━━━━━━━━━━\u001b[0m \u001b[32m689.2/689.2 kB\u001b[0m \u001b[31m9.2 MB/s\u001b[0m eta \u001b[36m0:00:00\u001b[0m\n",
            "\u001b[?25hCollecting tdqm\n",
            "  Downloading tdqm-0.0.1.tar.gz (1.4 kB)\n",
            "  Preparing metadata (setup.py) ... \u001b[?25l\u001b[?25hdone\n",
            "Requirement already satisfied: requests in /usr/local/lib/python3.10/dist-packages (from neurokit2) (2.31.0)\n",
            "Requirement already satisfied: numpy in /usr/local/lib/python3.10/dist-packages (from neurokit2) (1.25.2)\n",
            "Requirement already satisfied: pandas in /usr/local/lib/python3.10/dist-packages (from neurokit2) (2.0.3)\n",
            "Requirement already satisfied: scipy in /usr/local/lib/python3.10/dist-packages (from neurokit2) (1.11.4)\n",
            "Requirement already satisfied: scikit-learn>=1.0.0 in /usr/local/lib/python3.10/dist-packages (from neurokit2) (1.2.2)\n",
            "Requirement already satisfied: matplotlib in /usr/local/lib/python3.10/dist-packages (from neurokit2) (3.7.1)\n",
            "Requirement already satisfied: tqdm in /usr/local/lib/python3.10/dist-packages (from tdqm) (4.66.4)\n",
            "Requirement already satisfied: joblib>=1.1.1 in /usr/local/lib/python3.10/dist-packages (from scikit-learn>=1.0.0->neurokit2) (1.4.2)\n",
            "Requirement already satisfied: threadpoolctl>=2.0.0 in /usr/local/lib/python3.10/dist-packages (from scikit-learn>=1.0.0->neurokit2) (3.5.0)\n",
            "Requirement already satisfied: contourpy>=1.0.1 in /usr/local/lib/python3.10/dist-packages (from matplotlib->neurokit2) (1.2.1)\n",
            "Requirement already satisfied: cycler>=0.10 in /usr/local/lib/python3.10/dist-packages (from matplotlib->neurokit2) (0.12.1)\n",
            "Requirement already satisfied: fonttools>=4.22.0 in /usr/local/lib/python3.10/dist-packages (from matplotlib->neurokit2) (4.53.1)\n",
            "Requirement already satisfied: kiwisolver>=1.0.1 in /usr/local/lib/python3.10/dist-packages (from matplotlib->neurokit2) (1.4.5)\n",
            "Requirement already satisfied: packaging>=20.0 in /usr/local/lib/python3.10/dist-packages (from matplotlib->neurokit2) (24.1)\n",
            "Requirement already satisfied: pillow>=6.2.0 in /usr/local/lib/python3.10/dist-packages (from matplotlib->neurokit2) (9.4.0)\n",
            "Requirement already satisfied: pyparsing>=2.3.1 in /usr/local/lib/python3.10/dist-packages (from matplotlib->neurokit2) (3.1.2)\n",
            "Requirement already satisfied: python-dateutil>=2.7 in /usr/local/lib/python3.10/dist-packages (from matplotlib->neurokit2) (2.8.2)\n",
            "Requirement already satisfied: pytz>=2020.1 in /usr/local/lib/python3.10/dist-packages (from pandas->neurokit2) (2023.4)\n",
            "Requirement already satisfied: tzdata>=2022.1 in /usr/local/lib/python3.10/dist-packages (from pandas->neurokit2) (2024.1)\n",
            "Requirement already satisfied: charset-normalizer<4,>=2 in /usr/local/lib/python3.10/dist-packages (from requests->neurokit2) (3.3.2)\n",
            "Requirement already satisfied: idna<4,>=2.5 in /usr/local/lib/python3.10/dist-packages (from requests->neurokit2) (3.7)\n",
            "Requirement already satisfied: urllib3<3,>=1.21.1 in /usr/local/lib/python3.10/dist-packages (from requests->neurokit2) (2.0.7)\n",
            "Requirement already satisfied: certifi>=2017.4.17 in /usr/local/lib/python3.10/dist-packages (from requests->neurokit2) (2024.7.4)\n",
            "Requirement already satisfied: six>=1.5 in /usr/local/lib/python3.10/dist-packages (from python-dateutil>=2.7->matplotlib->neurokit2) (1.16.0)\n",
            "Building wheels for collected packages: tdqm\n",
            "  Building wheel for tdqm (setup.py) ... \u001b[?25l\u001b[?25hdone\n",
            "  Created wheel for tdqm: filename=tdqm-0.0.1-py3-none-any.whl size=1323 sha256=b1a9241403cdbfa490e130d92985b78b99ccc1ce143614813624fab3ea9091b1\n",
            "  Stored in directory: /root/.cache/pip/wheels/37/31/b8/7b711038035720ba0df14376af06e5e76b9bd61759c861ad92\n",
            "Successfully built tdqm\n",
            "Installing collected packages: tdqm, neurokit2\n",
            "Successfully installed neurokit2-0.2.9 tdqm-0.0.1\n"
          ]
        }
      ],
      "source": [
        "! pip install neurokit2 tdqm"
      ]
    },
    {
      "cell_type": "code",
      "execution_count": 29,
      "metadata": {
        "id": "M9iEDFy2vc2T"
      },
      "outputs": [],
      "source": [
        "import scipy"
      ]
    },
    {
      "cell_type": "code",
      "source": [
        "def normalize(data):\n",
        "    return (data - np.mean(data)) / np.std(data)\n"
      ],
      "metadata": {
        "id": "eEFuVOLwTmtJ"
      },
      "execution_count": 30,
      "outputs": []
    },
    {
      "cell_type": "code",
      "source": [
        "# Resample and normalize to 250 Hz training PPG signals\n",
        "normalized_ppg_1_train = []\n",
        "for i in range(len(ppg_train)):\n",
        "    original_fs = ppg_freq(train[i])\n",
        "    if original_fs != 250:\n",
        "        resampled = signal.resample_poly(ppg_train[i]['ppg'][:, 0], 250, original_fs)\n",
        "    else:\n",
        "        resampled = ppg_train[i]['ppg'][:, 0]\n",
        "    normalized = normalize(resampled)\n",
        "    normalized_ppg_1_train.append(normalized)\n",
        "\n",
        "# Resample and normalize to 250 Hz validation PPG signals\n",
        "normalized_ppg_1_validation = []\n",
        "for i in range(len(ppg_validation)):\n",
        "    original_fs = ppg_freq(validation[i])\n",
        "    if original_fs != 250:\n",
        "        resampled = signal.resample_poly(ppg_validation[i]['ppg'][:, 0], 250, original_fs)\n",
        "    else:\n",
        "        resampled = ppg_validation[i]['ppg'][:, 0]\n",
        "    normalized = normalize(resampled)\n",
        "    normalized_ppg_1_validation.append(normalized)\n",
        "\n",
        "\n",
        "# Resample and normalize to 250 Hz training PPG signals\n",
        "normalized_ppg_1_testing = []\n",
        "for i in range(len(ppg_testing)):\n",
        "    original_fs = ppg_freq(testing[i])\n",
        "    if original_fs != 250:\n",
        "        resampled = signal.resample_poly(ppg_testing[i]['ppg'][:, 0], 250, original_fs)\n",
        "    else:\n",
        "        resampled = ppg_testing[i]['ppg'][:, 0]\n",
        "    normalized = normalize(resampled)\n",
        "    normalized_ppg_1_testing.append(normalized)\n",
        "\n",
        "# Define the Butterworth bandpass filter\n",
        "def butter_bandpass(lowcut, highcut, fs, order=4):\n",
        "    nyquist = 0.5 * fs\n",
        "    low = lowcut / nyquist\n",
        "    high = highcut / nyquist\n",
        "    b, a = signal.butter(order, [low, high], btype='band')\n",
        "    return b, a\n",
        "\n",
        "# Apply the Butterworth filter to the signal\n",
        "def butter_bandpass_filter(data, lowcut, highcut, fs, order=4):\n",
        "    b, a = butter_bandpass(lowcut, highcut, fs, order)\n",
        "    y = signal.lfilter(b, a, data)\n",
        "    return y\n",
        "\n",
        "# Filter parameters\n",
        "lowcut = 0.5\n",
        "highcut = 6.0\n",
        "fs = 250\n",
        "\n",
        "# Apply the Butterworth filter to normalized training data\n",
        "filtered_ppg_1_train = []\n",
        "for i in range(len(normalized_ppg_1_train)):\n",
        "    filtered_ppg_1_train.append(butter_bandpass_filter(normalized_ppg_1_train[i], lowcut, highcut, fs))\n",
        "\n",
        "# Apply the Butterworth filter to normalized validation data\n",
        "filtered_ppg_1_validation = []\n",
        "for i in range(len(normalized_ppg_1_validation)):\n",
        "    filtered_ppg_1_validation.append(butter_bandpass_filter(normalized_ppg_1_validation[i], lowcut, highcut, fs))\n",
        "\n",
        "# Apply the Butterworth filter to normalized testing data\n",
        "filtered_ppg_1_testing = []\n",
        "for i in range(len(normalized_ppg_1_testing)):\n",
        "    filtered_ppg_1_testing.append(butter_bandpass_filter(normalized_ppg_1_testing[i], lowcut, highcut, fs))\n",
        "\n",
        "# Function to plot PPG signals\n",
        "def plot_ppg_signals(subject_index, xlim=(0, 1000), ylim=(-5, 5)):\n",
        "    plt.figure(figsize=(12, 8))\n",
        "\n",
        "    plt.subplot(2, 1, 1)\n",
        "    plt.plot(normalized_ppg_1_train[subject_index], label='Normalized 250Hz')\n",
        "    plt.title(f'Subject {subject_index + 1}: {train_files[subject_index]} - Resampled PPG')\n",
        "    plt.title(f'Subject {subject_index + 1}: Normalized PPG')\n",
        "    plt.legend()\n",
        "    plt.xlim(xlim)\n",
        "    plt.ylim(ylim)\n",
        "\n",
        "    plt.subplot(2, 1, 2)\n",
        "    plt.plot(filtered_ppg_1_train[subject_index], label='Filtered 0.5-10Hz')\n",
        "    plt.title(f'Subject {subject_index + 1}: Filtered PPG')\n",
        "    plt.legend()\n",
        "    plt.xlim(xlim)\n",
        "    plt.ylim(ylim)\n",
        "\n",
        "    plt.tight_layout()\n",
        "    plt.show()\n",
        "resampled_ppg_1_train = filtered_ppg_1_train\n",
        "resampled_ppg_1_validation = filtered_ppg_1_validation\n",
        "resampled_ppg_1_testing = filtered_ppg_1_testing"
      ],
      "metadata": {
        "id": "NLJIUFuWRhHm"
      },
      "execution_count": 31,
      "outputs": []
    },
    {
      "cell_type": "code",
      "execution_count": 32,
      "metadata": {
        "colab": {
          "base_uri": "https://localhost:8080/"
        },
        "id": "SsPfEeOitcJz",
        "outputId": "049f563c-b9c0-4395-98b9-17610bc6c447"
      },
      "outputs": [
        {
          "output_type": "execute_result",
          "data": {
            "text/plain": [
              "63"
            ]
          },
          "metadata": {},
          "execution_count": 32
        }
      ],
      "source": [
        "len(resampled_ppg_1_train)"
      ]
    },
    {
      "cell_type": "code",
      "execution_count": 33,
      "metadata": {
        "colab": {
          "base_uri": "https://localhost:8080/"
        },
        "id": "UR46Jy6Gtz9z",
        "outputId": "ab0127d3-c554-4327-bc0f-677fc7786e54"
      },
      "outputs": [
        {
          "output_type": "execute_result",
          "data": {
            "text/plain": [
              "10"
            ]
          },
          "metadata": {},
          "execution_count": 33
        }
      ],
      "source": [
        "len(resampled_ppg_1_validation)"
      ]
    },
    {
      "cell_type": "code",
      "source": [
        "len(resampled_ppg_1_testing)"
      ],
      "metadata": {
        "colab": {
          "base_uri": "https://localhost:8080/"
        },
        "id": "4vzYnl3aODTw",
        "outputId": "bfb4395b-c225-4ead-cb6a-c76880507391"
      },
      "execution_count": 34,
      "outputs": [
        {
          "output_type": "execute_result",
          "data": {
            "text/plain": [
              "18"
            ]
          },
          "metadata": {},
          "execution_count": 34
        }
      ]
    },
    {
      "cell_type": "code",
      "execution_count": 35,
      "metadata": {
        "id": "ICDrQiPBz2Fq",
        "colab": {
          "base_uri": "https://localhost:8080/",
          "height": 692
        },
        "outputId": "1338b9e0-be19-494f-cf88-a57d9d1bdfc7"
      },
      "outputs": [
        {
          "output_type": "execute_result",
          "data": {
            "text/plain": [
              "250"
            ]
          },
          "metadata": {},
          "execution_count": 35
        },
        {
          "output_type": "display_data",
          "data": {
            "text/plain": [
              "<Figure size 2000x500 with 1 Axes>"
            ],
            "image/png": "[encoded data removed]"
          },
          "metadata": {}
        },
        {
          "output_type": "display_data",
          "data": {
            "text/plain": [
              "<Figure size 2000x500 with 1 Axes>"
            ],
            "image/png": "[encoded data removed]"
          },
          "metadata": {}
        }
      ],
      "source": [
        "# plot the effect of the denoising procedure showing a piece of PPG before and after the applications of filters\n",
        "\n",
        "x = 11\n",
        "plt.figure(figsize=(20, 5))\n",
        "plt.plot(ppg_train[x]['ppg'][:,0])\n",
        "plt.xlim(2000, 4000)\n",
        "plt.ylim(-10,10)\n",
        "plt.figure(figsize=(20, 5))\n",
        "plt.plot(resampled_ppg_1_train[x])\n",
        "plt.xlim(2000, 4000)\n",
        "plt.ylim(-10,10)\n",
        "ppg_freq(train[x])\n"
      ]
    },
    {
      "cell_type": "code",
      "execution_count": 36,
      "metadata": {
        "id": "U1pxOK5yvko4",
        "colab": {
          "base_uri": "https://localhost:8080/"
        },
        "outputId": "7308f8e7-6e27-4654-bd80-70643c34cfd9"
      },
      "outputs": [
        {
          "output_type": "execute_result",
          "data": {
            "text/plain": [
              "array([[   110],\n",
              "       [   220],\n",
              "       [   332],\n",
              "       ...,\n",
              "       [229756],\n",
              "       [229884],\n",
              "       [230013]], dtype=int32)"
            ]
          },
          "metadata": {},
          "execution_count": 36
        }
      ],
      "source": [
        "spk_train[0]['speaks']"
      ]
    },
    {
      "cell_type": "code",
      "source": [
        "spk_train[1]['speaks']"
      ],
      "metadata": {
        "colab": {
          "base_uri": "https://localhost:8080/"
        },
        "id": "z8HUSu_YRL49",
        "outputId": "95a16231-d53e-479e-b7c5-b82cab9a2589"
      },
      "execution_count": 37,
      "outputs": [
        {
          "output_type": "execute_result",
          "data": {
            "text/plain": [
              "array([[    87],\n",
              "       [   176],\n",
              "       [   262],\n",
              "       ...,\n",
              "       [229860],\n",
              "       [229950],\n",
              "       [230042]], dtype=int32)"
            ]
          },
          "metadata": {},
          "execution_count": 37
        }
      ]
    },
    {
      "cell_type": "code",
      "execution_count": 38,
      "metadata": {
        "id": "prMxzCdtuDw4"
      },
      "outputs": [],
      "source": [
        "def from_freq_to_freq(sample, ini_freq, freq = 250):\n",
        "   secs = sample/ini_freq # Number of seconds in signal X\n",
        "   samp = secs*freq       # Number of samples to downsample\n",
        "   return int(samp)"
      ]
    },
    {
      "cell_type": "code",
      "execution_count": 39,
      "metadata": {
        "id": "9PwaWshYwCMg"
      },
      "outputs": [],
      "source": [
        "# This parameter is the number of samples considered to segment the PPG signal (the segment will be the samples of current R peak +/- win)\n",
        "win = 250"
      ]
    },
    {
      "cell_type": "code",
      "execution_count": 40,
      "metadata": {
        "id": "VH67kTh5wINz",
        "colab": {
          "base_uri": "https://localhost:8080/"
        },
        "outputId": "a859b3c5-abbf-43eb-fc81-6fdafc1e04c5"
      },
      "outputs": [
        {
          "output_type": "stream",
          "name": "stderr",
          "text": [
            "<ipython-input-38-ead6d838464d>:4: DeprecationWarning: Conversion of an array with ndim > 0 to a scalar is deprecated, and will error in future. Ensure you extract a single element from your array before performing this operation. (Deprecated NumPy 1.25.)\n",
            "  return int(samp)\n"
          ]
        }
      ],
      "source": [
        "# Extract all the segments (single heartbeats) from the original raw signals\n",
        "\n",
        "heartbeats_train_1 = []\n",
        "heartbeats_validation_1 = []\n",
        "heartbeats_testing_1 = []\n",
        "\n",
        "for i in range(len(ppg_train)):\n",
        "  for j in range(len(spk_train[i]['speaks'])):\n",
        "   if(from_freq_to_freq(spk_train[i]['speaks'][j],ppg_freq(train[i])) < win or from_freq_to_freq(spk_train[i]['speaks'][j],ppg_freq(train[i]))  + win > from_freq_to_freq(spk_train[i]['speaks'][-1],ppg_freq(train[i])) or j < 40 or (len(spk_train[i]['speaks']) - (j+1) < 40)): #skipping beats that are too much close to the initial and to the end of the signal\n",
        "    ann_train[i]['labels'][j] = 'A'\n",
        "    spk_train[i]['speaks'][j] = 0\n",
        "   else:\n",
        "    heartbeats_train_1.append(resampled_ppg_1_train[i][from_freq_to_freq(spk_train[i]['speaks'][j],ppg_freq(train[i]))  - win : from_freq_to_freq(spk_train[i]['speaks'][j],ppg_freq(train[i]))  + win])\n",
        "\n",
        "for i in range(len(ppg_validation)):\n",
        "  for j in range(len(spk_validation[i]['speaks'])):\n",
        "   if(from_freq_to_freq(spk_validation[i]['speaks'][j],ppg_freq(validation[i])) < win or from_freq_to_freq(spk_validation[i]['speaks'][j],ppg_freq(validation[i])) + win > from_freq_to_freq(spk_validation[i]['speaks'][-1],ppg_freq(validation[i]))): #skipping beats that are too much close to the initial and to the end of the signal\n",
        "    ann_validation[i]['labels'][j] = 'A'\n",
        "    spk_validation[i]['speaks'][j] = 0\n",
        "   else:\n",
        "    heartbeats_validation_1.append(resampled_ppg_1_validation[i][from_freq_to_freq(spk_validation[i]['speaks'][j],ppg_freq(validation[i]))  - win : from_freq_to_freq(spk_validation[i]['speaks'][j],ppg_freq(validation[i]))  + win])\n",
        "\n",
        "for i in range(len(ppg_testing)):\n",
        "  for j in range(len(spk_testing[i]['speaks'])):\n",
        "   if(from_freq_to_freq(spk_testing[i]['speaks'][j],ppg_freq(testing[i])) < win or from_freq_to_freq(spk_testing[i]['speaks'][j],ppg_freq(testing[i]))  + win > from_freq_to_freq(spk_testing[i]['speaks'][-1],ppg_freq(testing[i])) or j < 40 or (len(spk_testing[i]['speaks']) - (j+1) < 40)): #skipping beats that are too much close to the initial and to the end of the signal\n",
        "    ann_testing[i]['labels'][j] = 'A'\n",
        "    spk_testing[i]['speaks'][j] = 0\n",
        "   else:\n",
        "    heartbeats_testing_1.append(resampled_ppg_1_testing[i][from_freq_to_freq(spk_testing[i]['speaks'][j],ppg_freq(testing[i]))  - win : from_freq_to_freq(spk_testing[i]['speaks'][j],ppg_freq(testing[i]))  + win])\n"
      ]
    },
    {
      "cell_type": "code",
      "execution_count": 41,
      "metadata": {
        "id": "8sIWCmY6x99l",
        "colab": {
          "base_uri": "https://localhost:8080/"
        },
        "outputId": "d6e8e9ce-d06e-4b33-f07d-c75e97cad714"
      },
      "outputs": [
        {
          "output_type": "execute_result",
          "data": {
            "text/plain": [
              "(1859, 1858)"
            ]
          },
          "metadata": {},
          "execution_count": 41
        }
      ],
      "source": [
        "len(spk_train[0]['speaks']), len(np.delete(spk_train[0]['speaks'], 0))"
      ]
    },
    {
      "cell_type": "code",
      "execution_count": 42,
      "metadata": {
        "id": "0ERBL3V9yBrq",
        "colab": {
          "base_uri": "https://localhost:8080/"
        },
        "outputId": "351487d0-5ca9-4af2-d484-5595cb4c3f78"
      },
      "outputs": [
        {
          "output_type": "execute_result",
          "data": {
            "text/plain": [
              "(142830, 26044, 39968)"
            ]
          },
          "metadata": {},
          "execution_count": 42
        }
      ],
      "source": [
        "len(heartbeats_train_1), len(heartbeats_validation_1), len(heartbeats_testing_1)"
      ]
    },
    {
      "cell_type": "code",
      "source": [
        "len(heartbeats_train_1)"
      ],
      "metadata": {
        "colab": {
          "base_uri": "https://localhost:8080/"
        },
        "id": "89QJGpMKVQSm",
        "outputId": "c645e68a-0f84-4457-cb2e-514a6f65e73e"
      },
      "execution_count": 43,
      "outputs": [
        {
          "output_type": "execute_result",
          "data": {
            "text/plain": [
              "142830"
            ]
          },
          "metadata": {},
          "execution_count": 43
        }
      ]
    },
    {
      "cell_type": "code",
      "execution_count": 44,
      "metadata": {
        "id": "_IYUacv_yOos",
        "colab": {
          "base_uri": "https://localhost:8080/",
          "height": 447
        },
        "outputId": "d98e2d30-fc76-4f8e-fa2d-6351eab9bd7c"
      },
      "outputs": [
        {
          "output_type": "execute_result",
          "data": {
            "text/plain": [
              "[<matplotlib.lines.Line2D at 0x7f36c76d95a0>]"
            ]
          },
          "metadata": {},
          "execution_count": 44
        },
        {
          "output_type": "display_data",
          "data": {
            "text/plain": [
              "<Figure size 640x480 with 1 Axes>"
            ],
            "image/png": "[encoded data removed]"
          },
          "metadata": {}
        }
      ],
      "source": [
        "import matplotlib.pyplot as plt\n",
        "\n",
        "# plot an example of segment\n",
        "plt.plot(heartbeats_train_1[100])"
      ]
    },
    {
      "cell_type": "code",
      "source": [
        "import matplotlib.pyplot as plt\n",
        "\n",
        "# Initialize two lists for peak-to-peak amplitudes\n",
        "high_amplitude_peaks = []\n",
        "low_amplitude_peaks = []\n",
        "\n",
        "# Iterate through the heartbeats and separate the peak-to-peak amplitudes\n",
        "for i in range(len(heartbeats_train_1)):\n",
        "    max_val = np.max(heartbeats_train_1[i])\n",
        "    min_val = np.min(heartbeats_train_1[i])\n",
        "    peak_to_peak_amplitude = max_val - min_val\n",
        "\n",
        "    if peak_to_peak_amplitude > 5:\n",
        "        high_amplitude_peaks.append(peak_to_peak_amplitude)\n",
        "    else:\n",
        "        low_amplitude_peaks.append(peak_to_peak_amplitude)\n",
        "\n",
        "# Print the count of each category\n",
        "print(f\"Number of segments with peak-to-peak amplitude > 5: {len(high_amplitude_peaks)}\")\n",
        "print(f\"Number of segments with peak-to-peak amplitude <= 5: {len(low_amplitude_peaks)}\")\n",
        "\n",
        "# Plot the distributions\n",
        "plt.figure(figsize=(14, 6))\n",
        "\n",
        "plt.subplot(1, 2, 1)\n",
        "plt.hist(high_amplitude_peaks, bins=30, color='r', alpha=0.7)\n",
        "plt.title('Distribution of Peak-to-Peak Amplitudes > 5')\n",
        "plt.xlabel('Peak-to-Peak Amplitude')\n",
        "plt.ylabel('Frequency')\n",
        "\n",
        "plt.subplot(1, 2, 2)\n",
        "plt.hist(low_amplitude_peaks, bins=30, color='b', alpha=0.7)\n",
        "plt.title('Distribution of Peak-to-Peak Amplitudes <= 5')\n",
        "plt.xlabel('Peak-to-Peak Amplitude')\n",
        "plt.ylabel('Frequency')\n",
        "\n",
        "plt.tight_layout()\n",
        "plt.show()\n"
      ],
      "metadata": {
        "colab": {
          "base_uri": "https://localhost:8080/",
          "height": 579
        },
        "id": "R8r2Am62WgQ3",
        "outputId": "0c08ae4f-d55f-4254-d8db-b85a1486ce5a"
      },
      "execution_count": 45,
      "outputs": [
        {
          "output_type": "stream",
          "name": "stdout",
          "text": [
            "Number of segments with peak-to-peak amplitude > 5: 13924\n",
            "Number of segments with peak-to-peak amplitude <= 5: 128906\n"
          ]
        },
        {
          "output_type": "display_data",
          "data": {
            "text/plain": [
              "<Figure size 1400x600 with 2 Axes>"
            ],
            "image/png": "[encoded data removed]"
          },
          "metadata": {}
        }
      ]
    },
    {
      "cell_type": "code",
      "source": [
        "labels_train = []\n",
        "labels_validation = []\n",
        "labels_testing = []\n",
        "\n",
        "for i in range(len(ppg_train)):\n",
        "  for j in range(len(ann_train[i]['labels'])):\n",
        "    if(ann_train[i]['labels'][j] != 'A'):\n",
        "     labels_train.append(ann_train[i]['labels'][j])\n",
        "\n",
        "for i in range(len(ppg_validation)):\n",
        "  for j in range(len(ann_validation[i]['labels'])):\n",
        "    if(ann_validation[i]['labels'][j] != 'A'):\n",
        "     labels_validation.append(ann_validation[i]['labels'][j])\n",
        "\n",
        "\n",
        "for i in range(len(ppg_testing)):\n",
        "  for j in range(len(ann_testing[i]['labels'])):\n",
        "    if(ann_testing[i]['labels'][j] != 'A'):\n",
        "     labels_testing.append(ann_testing[i]['labels'][j])\n"
      ],
      "metadata": {
        "id": "h0xr0M7oWHjA"
      },
      "execution_count": 46,
      "outputs": []
    },
    {
      "cell_type": "code",
      "source": [
        "# Lists to store valid heartbeats, labels, and spk values\n",
        "valid_heartbeats_train = []\n",
        "valid_labels_train = []\n",
        "valid_ann_train = []\n",
        "\n",
        "# Iterate through the heartbeats and keep only those with peak-to-peak amplitude <= 5\n",
        "for i in range(len(heartbeats_train_1)):\n",
        "    max_val = np.max(heartbeats_train_1[i])\n",
        "    min_val = np.min(heartbeats_train_1[i])\n",
        "    peak_to_peak_amplitude = max_val - min_val\n",
        "\n",
        "    if peak_to_peak_amplitude <= 5:\n",
        "        valid_heartbeats_train.append(heartbeats_train_1[i])\n",
        "        valid_labels_train.append(labels_train[i])\n",
        "        valid_ann_train.append(labels_train[i])\n",
        "\n",
        "# Print the count of remaining segments\n",
        "print(f\"Number of valid training segments after removal: {len(valid_heartbeats_train)}\")\n",
        "print(f\"Number of valid training labels after removal: {len(valid_ann_train)}\")\n",
        "\n"
      ],
      "metadata": {
        "colab": {
          "base_uri": "https://localhost:8080/"
        },
        "id": "b7S-ipnOV8ZY",
        "outputId": "2e84941f-5a85-48fe-d16c-bd8df2b0a4b9"
      },
      "execution_count": 47,
      "outputs": [
        {
          "output_type": "stream",
          "name": "stdout",
          "text": [
            "Number of valid training segments after removal: 128906\n",
            "Number of valid training labels after removal: 128906\n"
          ]
        }
      ]
    },
    {
      "cell_type": "code",
      "execution_count": 48,
      "metadata": {
        "id": "3NDqbq30yRkr"
      },
      "outputs": [],
      "source": [
        "labels_train = []\n",
        "labels_validation = []\n",
        "\n",
        "for i in range(len(ppg_train)):\n",
        "  for j in range(len(ann_train[i]['labels'])):\n",
        "    if(ann_train[i]['labels'][j] != 'A'):\n",
        "     labels_train.append(ann_train[i]['labels'][j])\n",
        "\n",
        "for i in range(len(ppg_validation)):\n",
        "  for j in range(len(ann_validation[i]['labels'])):\n",
        "    if(ann_validation[i]['labels'][j] != 'A'):\n",
        "     labels_validation.append(ann_validation[i]['labels'][j])\n"
      ]
    },
    {
      "cell_type": "code",
      "source": [
        "# Lists to store valid heartbeats, labels, and spk values\n",
        "valid_heartbeats_testing = []\n",
        "valid_labels_testing = []\n",
        "valid_ann_testing = []\n",
        "\n",
        "# Iterate through the heartbeats and keep only those with peak-to-peak amplitude <= 5\n",
        "for i in range(len(heartbeats_testing_1)):\n",
        "      valid_heartbeats_testing.append(heartbeats_testing_1[i])\n",
        "      valid_labels_testing.append(labels_testing[i])\n",
        "      valid_ann_testing.append(labels_testing[i])\n",
        "\n",
        "# Print the count of remaining segments\n",
        "print(f\"Number of valid training segments after removal: {len(valid_heartbeats_testing)}\")\n",
        "print(f\"Number of valid training labels after removal: {len(valid_ann_testing)}\")\n",
        "\n"
      ],
      "metadata": {
        "colab": {
          "base_uri": "https://localhost:8080/"
        },
        "id": "Lmn9cn4gQAn8",
        "outputId": "de879266-9333-44ce-e931-9476f561ff12"
      },
      "execution_count": 49,
      "outputs": [
        {
          "output_type": "stream",
          "name": "stdout",
          "text": [
            "Number of valid training segments after removal: 39968\n",
            "Number of valid training labels after removal: 39968\n"
          ]
        }
      ]
    },
    {
      "cell_type": "code",
      "execution_count": 50,
      "metadata": {
        "id": "fsTFT7lqyc5Y"
      },
      "outputs": [],
      "source": [
        "classes_name = ['N', 'S', 'V']"
      ]
    },
    {
      "cell_type": "code",
      "execution_count": 51,
      "metadata": {
        "id": "9-G6F-fHymsK",
        "colab": {
          "base_uri": "https://localhost:8080/"
        },
        "outputId": "298c5744-a904-4dfe-dfe5-deb4475260df"
      },
      "outputs": [
        {
          "output_type": "stream",
          "name": "stderr",
          "text": [
            "/usr/local/lib/python3.10/dist-packages/sklearn/preprocessing/_encoders.py:868: FutureWarning: `sparse` was renamed to `sparse_output` in version 1.2 and will be removed in 1.4. `sparse_output` is ignored unless you leave `sparse` to its default value.\n",
            "  warnings.warn(\n",
            "/usr/local/lib/python3.10/dist-packages/sklearn/preprocessing/_encoders.py:868: FutureWarning: `sparse` was renamed to `sparse_output` in version 1.2 and will be removed in 1.4. `sparse_output` is ignored unless you leave `sparse` to its default value.\n",
            "  warnings.warn(\n",
            "/usr/local/lib/python3.10/dist-packages/sklearn/preprocessing/_encoders.py:868: FutureWarning: `sparse` was renamed to `sparse_output` in version 1.2 and will be removed in 1.4. `sparse_output` is ignored unless you leave `sparse` to its default value.\n",
            "  warnings.warn(\n"
          ]
        }
      ],
      "source": [
        "from sklearn.preprocessing import OneHotEncoder, LabelEncoder\n",
        "\n",
        "label_encoder = LabelEncoder()\n",
        "integer_encoded = label_encoder.fit_transform(labels_train)\n",
        "\n",
        "#One hot encoding of the target values\n",
        "ohe = OneHotEncoder(sparse=False)\n",
        "integer_encoded = integer_encoded.reshape(len(integer_encoded), 1)\n",
        "target_ohe_train = ohe.fit_transform(integer_encoded)\n",
        "\n",
        "integer_encoded = label_encoder.fit_transform(labels_validation)\n",
        "\n",
        "#One hot encoding of the target values\n",
        "ohe = OneHotEncoder(sparse=False)\n",
        "integer_encoded = integer_encoded.reshape(len(integer_encoded), 1)\n",
        "target_ohe_validation = ohe.fit_transform(integer_encoded)\n",
        "\n",
        "integer_encoded = label_encoder.fit_transform(labels_testing)\n",
        "\n",
        "#One hot encoding of the target values\n",
        "ohe = OneHotEncoder(sparse=False)\n",
        "integer_encoded = integer_encoded.reshape(len(integer_encoded), 1)\n",
        "target_ohe_testing = ohe.fit_transform(integer_encoded)\n"
      ]
    },
    {
      "cell_type": "code",
      "execution_count": 52,
      "metadata": {
        "id": "XpGrcPq_yrDZ",
        "colab": {
          "base_uri": "https://localhost:8080/"
        },
        "outputId": "3f2a35d1-b02c-4630-9a5a-eb7c4f28a095"
      },
      "outputs": [
        {
          "output_type": "execute_result",
          "data": {
            "text/plain": [
              "array(['N', 'S', 'V'], dtype='<U1')"
            ]
          },
          "metadata": {},
          "execution_count": 52
        }
      ],
      "source": [
        "label_encoder.inverse_transform([0,1,2])"
      ]
    },
    {
      "cell_type": "code",
      "execution_count": 53,
      "metadata": {
        "id": "Lj2sNBJOytsJ",
        "colab": {
          "base_uri": "https://localhost:8080/"
        },
        "outputId": "e33f8d94-cb3b-4d24-e05a-74ef55d4fe5e"
      },
      "outputs": [
        {
          "output_type": "execute_result",
          "data": {
            "text/plain": [
              "array([[0],\n",
              "       [1],\n",
              "       [2]])"
            ]
          },
          "metadata": {},
          "execution_count": 53
        }
      ],
      "source": [
        "ohe.inverse_transform([[1, 0, 0], [0,1,0], [0,0,1]])"
      ]
    },
    {
      "cell_type": "code",
      "execution_count": 54,
      "metadata": {
        "id": "FyVUjPbfywop"
      },
      "outputs": [],
      "source": [
        "y_train = target_ohe_train\n",
        "y_val = target_ohe_validation\n",
        "y_test = target_ohe_testing"
      ]
    },
    {
      "cell_type": "code",
      "execution_count": 55,
      "metadata": {
        "id": "VZrh2N7fyzPy"
      },
      "outputs": [],
      "source": [
        "X_train_1 = tf.keras.preprocessing.sequence.pad_sequences(heartbeats_train_1, maxlen=win * 2, dtype='float32', truncating='post',padding=\"post\")\n",
        "#X_train_2 = tf.keras.preprocessing.sequence.pad_sequences(heartbeats_train_2, maxlen=win * 2, dtype='float32', truncating='post',padding=\"post\")\n",
        "X_test_1 = tf.keras.preprocessing.sequence.pad_sequences(heartbeats_testing_1, maxlen=win * 2, dtype='float32', truncating='post',padding=\"post\")\n",
        "\n",
        "X_val_1 = tf.keras.preprocessing.sequence.pad_sequences(heartbeats_validation_1, maxlen=win * 2, dtype='float32', truncating='post',padding=\"post\")\n",
        "#X_val_2 = tf.keras.preprocessing.sequence.pad_sequences(heartbeats_validation_2, maxlen=win * 2, dtype='float32', truncating='post',padding=\"post\")\n"
      ]
    },
    {
      "cell_type": "code",
      "execution_count": 56,
      "metadata": {
        "id": "YdDVjQkRy6yE",
        "colab": {
          "base_uri": "https://localhost:8080/"
        },
        "outputId": "82c74ebd-4918-4b13-b808-6b5229b7815e"
      },
      "outputs": [
        {
          "output_type": "execute_result",
          "data": {
            "text/plain": [
              "(142830, 3)"
            ]
          },
          "metadata": {},
          "execution_count": 56
        }
      ],
      "source": [
        "y_train.shape"
      ]
    },
    {
      "cell_type": "code",
      "source": [
        "y_val.shape"
      ],
      "metadata": {
        "colab": {
          "base_uri": "https://localhost:8080/"
        },
        "id": "ZN7OxaOuXFFr",
        "outputId": "eb26d353-40ca-4b2f-bce1-5e435d7c8990"
      },
      "execution_count": 57,
      "outputs": [
        {
          "output_type": "execute_result",
          "data": {
            "text/plain": [
              "(26044, 3)"
            ]
          },
          "metadata": {},
          "execution_count": 57
        }
      ]
    },
    {
      "cell_type": "code",
      "source": [
        "y_test.shape"
      ],
      "metadata": {
        "colab": {
          "base_uri": "https://localhost:8080/"
        },
        "id": "gcD2yD8KL24o",
        "outputId": "99c31709-a4df-43f7-817a-0f5f00a8d004"
      },
      "execution_count": 58,
      "outputs": [
        {
          "output_type": "execute_result",
          "data": {
            "text/plain": [
              "(39968, 3)"
            ]
          },
          "metadata": {},
          "execution_count": 58
        }
      ]
    },
    {
      "cell_type": "code",
      "execution_count": 59,
      "metadata": {
        "id": "Xftbks2ky-Eg",
        "colab": {
          "base_uri": "https://localhost:8080/"
        },
        "outputId": "b177160f-f740-4323-f392-c31fb34d0775"
      },
      "outputs": [
        {
          "output_type": "execute_result",
          "data": {
            "text/plain": [
              "(142830, 500)"
            ]
          },
          "metadata": {},
          "execution_count": 59
        }
      ],
      "source": [
        "X_train_1.shape"
      ]
    },
    {
      "cell_type": "code",
      "source": [
        "X_val_1.shape"
      ],
      "metadata": {
        "colab": {
          "base_uri": "https://localhost:8080/"
        },
        "id": "xN_hYx-yXK9q",
        "outputId": "51ce8644-c82b-4645-cdae-15f42b0554cf"
      },
      "execution_count": 60,
      "outputs": [
        {
          "output_type": "execute_result",
          "data": {
            "text/plain": [
              "(26044, 500)"
            ]
          },
          "metadata": {},
          "execution_count": 60
        }
      ]
    },
    {
      "cell_type": "code",
      "source": [
        "X_test_1.shape"
      ],
      "metadata": {
        "colab": {
          "base_uri": "https://localhost:8080/"
        },
        "id": "r9Fha4ZcL5r5",
        "outputId": "b75674ae-6792-4391-e269-5fbf75aa33b5"
      },
      "execution_count": 61,
      "outputs": [
        {
          "output_type": "execute_result",
          "data": {
            "text/plain": [
              "(39968, 500)"
            ]
          },
          "metadata": {},
          "execution_count": 61
        }
      ]
    },
    {
      "cell_type": "code",
      "execution_count": 62,
      "metadata": {
        "id": "eoiWIt3NzCxg"
      },
      "outputs": [],
      "source": [
        "X_train = []\n",
        "for i in range(len(X_train_1)):\n",
        "  X_train.append(X_train_1[i])\n",
        "\n",
        "X_train = np.asarray(X_train)"
      ]
    },
    {
      "cell_type": "code",
      "source": [
        "X_test= []\n",
        "for i in range(len(X_test_1)):\n",
        "  X_test.append(X_test_1[i])\n",
        "\n",
        "X_test = np.asarray(X_test)"
      ],
      "metadata": {
        "id": "byzBmH3uL9zD"
      },
      "execution_count": 63,
      "outputs": []
    },
    {
      "cell_type": "code",
      "execution_count": 64,
      "metadata": {
        "id": "cNSMKYM-zKmx"
      },
      "outputs": [],
      "source": [
        "X_val = []\n",
        "for i in range(len(X_val_1)):\n",
        "  X_val.append(X_val_1[i])\n",
        "\n",
        "X_val = np.asarray(X_val)"
      ]
    },
    {
      "cell_type": "code",
      "execution_count": 65,
      "metadata": {
        "id": "GveUSpo6zPgB",
        "colab": {
          "base_uri": "https://localhost:8080/",
          "height": 447
        },
        "outputId": "2a6d6d30-7894-474a-c58c-26260a1d3bd0"
      },
      "outputs": [
        {
          "output_type": "execute_result",
          "data": {
            "text/plain": [
              "(142830, 500)"
            ]
          },
          "metadata": {},
          "execution_count": 65
        },
        {
          "output_type": "display_data",
          "data": {
            "text/plain": [
              "<Figure size 640x480 with 1 Axes>"
            ],
            "image/png": "[encoded data removed]"
          },
          "metadata": {}
        }
      ],
      "source": [
        "plt.plot(X_train[11])\n",
        "\n",
        "X_train.shape\n"
      ]
    },
    {
      "cell_type": "code",
      "source": [
        "plt.plot(X_test[900])\n",
        "\n",
        "X_test.shape\n"
      ],
      "metadata": {
        "colab": {
          "base_uri": "https://localhost:8080/",
          "height": 447
        },
        "id": "qKl47WDjMDWl",
        "outputId": "b71a8755-daec-4f54-f973-23f47f716d99"
      },
      "execution_count": 66,
      "outputs": [
        {
          "output_type": "execute_result",
          "data": {
            "text/plain": [
              "(39968, 500)"
            ]
          },
          "metadata": {},
          "execution_count": 66
        },
        {
          "output_type": "display_data",
          "data": {
            "text/plain": [
              "<Figure size 640x480 with 1 Axes>"
            ],
            "image/png": "[encoded data removed]"
          },
          "metadata": {}
        }
      ]
    },
    {
      "cell_type": "code",
      "source": [
        "plt.plot(X_val[900])\n",
        "\n",
        "X_val.shape\n"
      ],
      "metadata": {
        "colab": {
          "base_uri": "https://localhost:8080/",
          "height": 447
        },
        "id": "xvgdi-QZMFPD",
        "outputId": "aeb434c0-66cd-41d8-8ceb-3e0344037b1b"
      },
      "execution_count": 67,
      "outputs": [
        {
          "output_type": "execute_result",
          "data": {
            "text/plain": [
              "(26044, 500)"
            ]
          },
          "metadata": {},
          "execution_count": 67
        },
        {
          "output_type": "display_data",
          "data": {
            "text/plain": [
              "<Figure size 640x480 with 1 Axes>"
            ],
            "image/png": "[encoded data removed]"
          },
          "metadata": {}
        }
      ]
    },
    {
      "cell_type": "code",
      "execution_count": 68,
      "metadata": {
        "id": "muaH-dZxzYQS"
      },
      "outputs": [],
      "source": [
        "X_train = np.asarray(X_train_1)\n",
        "X_val = np.asarray(X_val_1)\n"
      ]
    },
    {
      "cell_type": "code",
      "execution_count": 69,
      "metadata": {
        "id": "r_gM7LgEz5px",
        "colab": {
          "base_uri": "https://localhost:8080/"
        },
        "outputId": "238d7fe2-84ca-4f0d-b7a8-35984f8f6be1"
      },
      "outputs": [
        {
          "output_type": "execute_result",
          "data": {
            "text/plain": [
              "(142830, 142830)"
            ]
          },
          "metadata": {},
          "execution_count": 69
        }
      ],
      "source": [
        "len(X_train), len(X_train > 3)"
      ]
    },
    {
      "cell_type": "code",
      "execution_count": 70,
      "metadata": {
        "id": "0uVF_ZxJz7R0",
        "colab": {
          "base_uri": "https://localhost:8080/"
        },
        "outputId": "38fe9eb0-1514-4aa8-b0ef-8733e488b1dd"
      },
      "outputs": [
        {
          "output_type": "execute_result",
          "data": {
            "text/plain": [
              "(142830, 142830)"
            ]
          },
          "metadata": {},
          "execution_count": 70
        }
      ],
      "source": [
        "len(X_train), len(X_train > 3)"
      ]
    },
    {
      "cell_type": "code",
      "execution_count": 71,
      "metadata": {
        "id": "woNxbcro0Cnw",
        "colab": {
          "base_uri": "https://localhost:8080/"
        },
        "outputId": "e52f5178-36f1-4586-bf0a-d7e45d3ae141"
      },
      "outputs": [
        {
          "output_type": "execute_result",
          "data": {
            "text/plain": [
              "(132187, 5181, 5462)"
            ]
          },
          "metadata": {},
          "execution_count": 71
        }
      ],
      "source": [
        "y_l = y_train.tolist()\n",
        "len([i for i in y_l if i == [1,0,0]]), len([i for i in y_l if i == [0,1,0]]), len([i for i in y_l if i == [0,0,1]])"
      ]
    },
    {
      "cell_type": "code",
      "execution_count": 72,
      "metadata": {
        "id": "pzYMsnhARQSY"
      },
      "outputs": [],
      "source": [
        "import sklearn\n",
        "X_train, y_train = sklearn.utils.shuffle(X_train, y_train)\n"
      ]
    },
    {
      "cell_type": "code",
      "source": [
        "import matplotlib.pyplot as plt\n",
        "\n",
        "beat = 10000\n",
        "plt.plot(X_train[beat])\n",
        "labels_train[beat]\n"
      ],
      "metadata": {
        "colab": {
          "base_uri": "https://localhost:8080/",
          "height": 448
        },
        "id": "2u6DyNv2MStm",
        "outputId": "ae5aa30e-557b-47b8-ac02-815237717a25"
      },
      "execution_count": 73,
      "outputs": [
        {
          "output_type": "execute_result",
          "data": {
            "text/plain": [
              "'N'"
            ],
            "application/vnd.google.colaboratory.intrinsic+json": {
              "type": "string"
            }
          },
          "metadata": {},
          "execution_count": 73
        },
        {
          "output_type": "display_data",
          "data": {
            "text/plain": [
              "<Figure size 640x480 with 1 Axes>"
            ],
            "image/png": "[encoded data removed]"
          },
          "metadata": {}
        }
      ]
    },
    {
      "cell_type": "code",
      "source": [
        "y_l = y_train.tolist()\n",
        "len([i for i in y_l if i == [1,0,0]]), len([i for i in y_l if i == [0,1,0]]), len([i for i in y_l if i == [0,0,1]])"
      ],
      "metadata": {
        "colab": {
          "base_uri": "https://localhost:8080/"
        },
        "id": "YsOn_FcMMUjV",
        "outputId": "71bb5063-bf2a-438d-b9c7-88f6ed46fae9"
      },
      "execution_count": 74,
      "outputs": [
        {
          "output_type": "execute_result",
          "data": {
            "text/plain": [
              "(132187, 5181, 5462)"
            ]
          },
          "metadata": {},
          "execution_count": 74
        }
      ]
    },
    {
      "cell_type": "code",
      "source": [
        "import sklearn\n",
        "X_train, y_train = sklearn.utils.shuffle(X_train, y_train)\n"
      ],
      "metadata": {
        "id": "EwI81Mw8MYDe"
      },
      "execution_count": 75,
      "outputs": []
    },
    {
      "cell_type": "code",
      "execution_count": 76,
      "metadata": {
        "id": "nDBUjpkkSIq_",
        "colab": {
          "base_uri": "https://localhost:8080/"
        },
        "outputId": "e0b00712-e3e0-485d-9cb1-61fe8edf2253"
      },
      "outputs": [
        {
          "output_type": "execute_result",
          "data": {
            "text/plain": [
              "{0: 0.360171575117069, 1: 9.189345686160973, 2: 8.716587330648114}"
            ]
          },
          "metadata": {},
          "execution_count": 76
        }
      ],
      "source": [
        "# Considering class imbalance: class weightning to reduce the bias in the dataset\n",
        "\n",
        "from sklearn.utils.class_weight import compute_class_weight\n",
        "\n",
        "y_integers = np.argmax(y_train, axis=1)\n",
        "\n",
        "class_weights = compute_class_weight(\n",
        "                                      class_weight = \"balanced\",\n",
        "                                      classes = np.unique(y_integers),\n",
        "                                      y = y_integers\n",
        "                                    )\n",
        "\n",
        "class_weights = dict(zip(np.unique(y_integers), class_weights))\n",
        "class_weights\n"
      ]
    },
    {
      "cell_type": "code",
      "source": [
        "X_train.shape, y_train.shape"
      ],
      "metadata": {
        "colab": {
          "base_uri": "https://localhost:8080/"
        },
        "id": "nAchxpeqMbwO",
        "outputId": "4dc73f6c-c2ee-4313-f2f0-e10c5b9868af"
      },
      "execution_count": 77,
      "outputs": [
        {
          "output_type": "execute_result",
          "data": {
            "text/plain": [
              "((142830, 500), (142830, 3))"
            ]
          },
          "metadata": {},
          "execution_count": 77
        }
      ]
    },
    {
      "cell_type": "code",
      "source": [
        "#class weights for validation set\n",
        "from sklearn.utils.class_weight import compute_class_weight\n",
        "\n",
        "y_integers = np.argmax(y_test, axis=1)\n",
        "\n",
        "class_weights_test = compute_class_weight(\n",
        "                                      class_weight = \"balanced\",\n",
        "                                      classes = np.unique(y_integers),\n",
        "                                      y = y_integers\n",
        "                                    )"
      ],
      "metadata": {
        "id": "q418yMKvMc6X"
      },
      "execution_count": 78,
      "outputs": []
    },
    {
      "cell_type": "code",
      "source": [
        "class_weights_test"
      ],
      "metadata": {
        "colab": {
          "base_uri": "https://localhost:8080/"
        },
        "id": "537MZGPvMect",
        "outputId": "4b85fee9-d9c7-4300-aabd-a579153e2dfb"
      },
      "execution_count": 79,
      "outputs": [
        {
          "output_type": "execute_result",
          "data": {
            "text/plain": [
              "array([ 0.36823291,  4.79232614, 13.21693122])"
            ]
          },
          "metadata": {},
          "execution_count": 79
        }
      ]
    },
    {
      "cell_type": "code",
      "source": [
        "#class weights for validation set\n",
        "from sklearn.utils.class_weight import compute_class_weight\n",
        "\n",
        "y_integers = np.argmax(y_val, axis=1)\n",
        "\n",
        "class_weights_val = compute_class_weight(\n",
        "                                      class_weight = \"balanced\",\n",
        "                                      classes = np.unique(y_integers),\n",
        "                                      y = y_integers\n",
        "                                    )"
      ],
      "metadata": {
        "id": "YXUo8GzBMf5u"
      },
      "execution_count": 80,
      "outputs": []
    },
    {
      "cell_type": "code",
      "source": [
        "class_weights_val"
      ],
      "metadata": {
        "colab": {
          "base_uri": "https://localhost:8080/"
        },
        "id": "yoDimcOTMhmm",
        "outputId": "974ae2af-7233-443a-ef76-2715a1ae2d9d"
      },
      "execution_count": 81,
      "outputs": [
        {
          "output_type": "execute_result",
          "data": {
            "text/plain": [
              "array([0.37340674, 5.71140351, 6.80888889])"
            ]
          },
          "metadata": {},
          "execution_count": 81
        }
      ]
    },
    {
      "cell_type": "code",
      "source": [
        "decode = dict(N =  0, S = 1, V  = 2)"
      ],
      "metadata": {
        "id": "e3sCVuV1Mi88"
      },
      "execution_count": 82,
      "outputs": []
    },
    {
      "cell_type": "code",
      "source": [
        "X_train.shape"
      ],
      "metadata": {
        "colab": {
          "base_uri": "https://localhost:8080/"
        },
        "id": "34vl8HrbMjek",
        "outputId": "0a783074-09c2-4be3-f534-17f79b8d06ec"
      },
      "execution_count": 83,
      "outputs": [
        {
          "output_type": "execute_result",
          "data": {
            "text/plain": [
              "(142830, 500)"
            ]
          },
          "metadata": {},
          "execution_count": 83
        }
      ]
    },
    {
      "cell_type": "code",
      "source": [
        "samples_class_weights_val = []\n",
        "for y in y_val:\n",
        "  samples_class_weights_val.append(class_weights_val[ohe.inverse_transform([y])[0][0]])"
      ],
      "metadata": {
        "id": "Z-Skby24MjnU"
      },
      "execution_count": 84,
      "outputs": []
    },
    {
      "cell_type": "code",
      "source": [
        "samples_class_weights_test = []\n",
        "for y in y_test:\n",
        "  samples_class_weights_test.append(class_weights_test[ohe.inverse_transform([y])[0][0]])"
      ],
      "metadata": {
        "id": "TgIQnv-rMjrw"
      },
      "execution_count": 85,
      "outputs": []
    },
    {
      "cell_type": "code",
      "source": [
        "# Here we load validation data, training data can be loaded with the batch generator below\n",
        "\n",
        "train_data = tf.data.Dataset.from_tensor_slices((X_train, y_train))\n",
        "testing_data = tf.data.Dataset.from_tensor_slices((X_test, y_test,samples_class_weights_test))\n",
        "validation_data = tf.data.Dataset.from_tensor_slices((X_val, y_val, samples_class_weights_val))\n"
      ],
      "metadata": {
        "id": "WpxJrglIMju5"
      },
      "execution_count": 86,
      "outputs": []
    },
    {
      "cell_type": "code",
      "source": [
        "len(train_data)\n"
      ],
      "metadata": {
        "colab": {
          "base_uri": "https://localhost:8080/"
        },
        "id": "sOsnGLD4Mjxz",
        "outputId": "aa7fedc6-e9e0-4ccb-d81a-25071c89c357"
      },
      "execution_count": 87,
      "outputs": [
        {
          "output_type": "execute_result",
          "data": {
            "text/plain": [
              "142830"
            ]
          },
          "metadata": {},
          "execution_count": 87
        }
      ]
    },
    {
      "cell_type": "code",
      "source": [
        "len(testing_data)"
      ],
      "metadata": {
        "colab": {
          "base_uri": "https://localhost:8080/"
        },
        "id": "EyEbbCK9MsVs",
        "outputId": "e4f3a0b5-451c-4f8a-b043-36c0227bca17"
      },
      "execution_count": 88,
      "outputs": [
        {
          "output_type": "execute_result",
          "data": {
            "text/plain": [
              "39968"
            ]
          },
          "metadata": {},
          "execution_count": 88
        }
      ]
    },
    {
      "cell_type": "code",
      "source": [
        "len(validation_data)"
      ],
      "metadata": {
        "colab": {
          "base_uri": "https://localhost:8080/"
        },
        "id": "rjwCmhvJMsfP",
        "outputId": "2b613550-f096-4086-bc3b-b0d6660cfc75"
      },
      "execution_count": 89,
      "outputs": [
        {
          "output_type": "execute_result",
          "data": {
            "text/plain": [
              "26044"
            ]
          },
          "metadata": {},
          "execution_count": 89
        }
      ]
    },
    {
      "cell_type": "code",
      "source": [
        "import seaborn as sns\n",
        "from sklearn.metrics import ConfusionMatrixDisplay, classification_report\n",
        "from sklearn.metrics import confusion_matrix\n",
        "\n",
        "#utility to plot confusion matrix and evaluation metrics\n",
        "def evaluate_on_valid(model, batch_size, valid_to_use):\n",
        "  #Computing the prediction of the model on the validation set\n",
        "  predictions = []\n",
        "  for element in valid_to_use.batch(batch_size).as_numpy_iterator():\n",
        "      predictions.append(model.predict(element[0]))\n",
        "\n",
        "  predictions_f = [item for sublist in predictions for item in sublist]\n",
        "\n",
        "  predictions_oh = []\n",
        "  #transform prediction into one-hot-encoding\n",
        "  for i in range(len(predictions_f)):\n",
        "      predictions_oh.append(tf.one_hot(tf.argmax(predictions_f[i]), depth=3))\n",
        "\n",
        "  #Compute the true and prediction array in order to plot the confusion matrix\n",
        "  y = []\n",
        "\n",
        "  for y_t in y_val.tolist():\n",
        "      if(y_t == [1, 0, 0]):\n",
        "          y.append('N')\n",
        "      if(y_t == [0, 1 ,0]):\n",
        "          y.append('S')\n",
        "      if(y_t == [0, 0 ,1]):\n",
        "          y.append('V')\n",
        "\n",
        "  y_pred = []\n",
        "\n",
        "  for y_t in predictions_oh:\n",
        "      if(all(tf.equal(y_t, tf.constant([1, 0, 0], dtype=np.float32)))):\n",
        "          y_pred.append('N')\n",
        "      elif(all(tf.equal(y_t, tf.constant([0, 1, 0], dtype=np.float32)))):\n",
        "          y_pred.append('S')\n",
        "      elif(all(tf.equal(y_t, tf.constant([0, 0, 1], dtype=np.float32)))):\n",
        "          y_pred.append('V')\n",
        "      else:\n",
        "          print(y_t)\n",
        "\n",
        "  # Plot confusion matrix and metrics\n",
        "  ConfusionMatrixDisplay.from_predictions(y, y_pred, labels = ['N', 'S', 'V'])\n",
        "  ConfusionMatrixDisplay.from_predictions(y, y_pred, normalize='true', labels = ['N', 'S', 'V'])\n",
        "\n",
        "  print(classification_report(y,y_pred))"
      ],
      "metadata": {
        "id": "3qHVyzG5MsmV"
      },
      "execution_count": 90,
      "outputs": []
    },
    {
      "cell_type": "code",
      "source": [
        "import tensorflow as tf\n",
        "\n",
        "# Assuming win is defined somewhere earlier in your code\n",
        "win = 250\n",
        "\n",
        "# Define the seed for reproducibility\n",
        "SEED = 42\n",
        "\n",
        "vgg = tf.keras.Sequential()\n",
        "\n",
        "vgg.add(tf.keras.layers.Conv1D(input_shape=(500, 1), filters=32, kernel_size=3, padding=\"same\", activation=\"relu\", kernel_initializer=tf.keras.initializers.GlorotUniform(SEED)))\n",
        "vgg.add(tf.keras.layers.Conv1D(filters=32, kernel_size=3, padding=\"same\", activation=\"relu\", kernel_initializer=tf.keras.initializers.GlorotUniform(SEED)))\n",
        "vgg.add(tf.keras.layers.MaxPooling1D(pool_size=2, strides=2))\n",
        "vgg.add(tf.keras.layers.Conv1D(filters=64, kernel_size=3, padding=\"same\", activation=\"relu\", kernel_initializer=tf.keras.initializers.GlorotUniform(SEED)))\n",
        "vgg.add(tf.keras.layers.Conv1D(filters=64, kernel_size=3, padding=\"same\", activation=\"relu\", kernel_initializer=tf.keras.initializers.GlorotUniform(SEED)))\n",
        "vgg.add(tf.keras.layers.MaxPooling1D(pool_size=2, strides=2))\n",
        "vgg.add(tf.keras.layers.Conv1D(filters=128, kernel_size=3, padding=\"same\", activation=\"relu\", kernel_initializer=tf.keras.initializers.GlorotUniform(SEED)))\n",
        "vgg.add(tf.keras.layers.Conv1D(filters=128, kernel_size=3, padding=\"same\", activation=\"relu\", kernel_initializer=tf.keras.initializers.GlorotUniform(SEED)))\n",
        "vgg.add(tf.keras.layers.Conv1D(filters=128, kernel_size=3, padding=\"same\", activation=\"relu\", kernel_initializer=tf.keras.initializers.GlorotUniform(SEED)))\n",
        "vgg.add(tf.keras.layers.MaxPooling1D(pool_size=2, strides=2))\n",
        "vgg.add(tf.keras.layers.Conv1D(filters=256, kernel_size=3, padding=\"same\", activation=\"relu\", kernel_initializer=tf.keras.initializers.GlorotUniform(SEED)))\n",
        "vgg.add(tf.keras.layers.Conv1D(filters=256, kernel_size=3, padding=\"same\", activation=\"relu\", kernel_initializer=tf.keras.initializers.GlorotUniform(SEED)))\n",
        "vgg.add(tf.keras.layers.Conv1D(filters=256, kernel_size=3, padding=\"same\", activation=\"relu\", kernel_initializer=tf.keras.initializers.GlorotUniform(SEED)))\n",
        "vgg.add(tf.keras.layers.MaxPooling1D(pool_size=2, strides=2))\n",
        "vgg.add(tf.keras.layers.Conv1D(filters=256, kernel_size=3, padding=\"same\", activation=\"relu\", kernel_initializer=tf.keras.initializers.GlorotUniform(SEED)))\n",
        "vgg.add(tf.keras.layers.Conv1D(filters=256, kernel_size=3, padding=\"same\", activation=\"relu\", kernel_initializer=tf.keras.initializers.GlorotUniform(SEED)))\n",
        "vgg.add(tf.keras.layers.Conv1D(filters=256, kernel_size=3, padding=\"same\", activation=\"relu\", kernel_initializer=tf.keras.initializers.GlorotUniform(SEED)))\n",
        "vgg.add(tf.keras.layers.MaxPooling1D(pool_size=2, strides=2))\n",
        "vgg.add(tf.keras.layers.Flatten())\n",
        "vgg.add(tf.keras.layers.Dense(128, activation='relu', kernel_initializer=tf.keras.initializers.GlorotUniform(SEED)))\n",
        "vgg.add(tf.keras.layers.Dropout(0.3, seed=SEED))\n",
        "vgg.add(tf.keras.layers.Dense(3, activation='softmax'))\n",
        "\n",
        "vgg.compile(\n",
        "    optimizer=tf.keras.optimizers.Adam(learning_rate=1e-6),\n",
        "    loss='categorical_crossentropy',\n",
        "    metrics=['accuracy',\n",
        "             tf.keras.metrics.Precision(class_id=0),\n",
        "             tf.keras.metrics.Recall(class_id=0),\n",
        "             tf.keras.metrics.Precision(class_id=1),\n",
        "             tf.keras.metrics.Recall(class_id=1),\n",
        "             tf.keras.metrics.Precision(class_id=2),\n",
        "             tf.keras.metrics.Recall(class_id=2)]\n",
        ")"
      ],
      "metadata": {
        "id": "iCNwIdrBMsrC"
      },
      "execution_count": 91,
      "outputs": []
    },
    {
      "cell_type": "code",
      "source": [
        "vgg.summary()"
      ],
      "metadata": {
        "colab": {
          "base_uri": "https://localhost:8080/"
        },
        "id": "XwL1B_FcMsu7",
        "outputId": "a18ccadc-2690-4ed0-f364-43df9f099c62"
      },
      "execution_count": 92,
      "outputs": [
        {
          "output_type": "stream",
          "name": "stdout",
          "text": [
            "Model: \"sequential\"\n",
            "_________________________________________________________________\n",
            " Layer (type)                Output Shape              Param #   \n",
            "=================================================================\n",
            " conv1d (Conv1D)             (None, 500, 32)           128       \n",
            "                                                                 \n",
            " conv1d_1 (Conv1D)           (None, 500, 32)           3104      \n",
            "                                                                 \n",
            " max_pooling1d (MaxPooling1  (None, 250, 32)           0         \n",
            " D)                                                              \n",
            "                                                                 \n",
            " conv1d_2 (Conv1D)           (None, 250, 64)           6208      \n",
            "                                                                 \n",
            " conv1d_3 (Conv1D)           (None, 250, 64)           12352     \n",
            "                                                                 \n",
            " max_pooling1d_1 (MaxPoolin  (None, 125, 64)           0         \n",
            " g1D)                                                            \n",
            "                                                                 \n",
            " conv1d_4 (Conv1D)           (None, 125, 128)          24704     \n",
            "                                                                 \n",
            " conv1d_5 (Conv1D)           (None, 125, 128)          49280     \n",
            "                                                                 \n",
            " conv1d_6 (Conv1D)           (None, 125, 128)          49280     \n",
            "                                                                 \n",
            " max_pooling1d_2 (MaxPoolin  (None, 62, 128)           0         \n",
            " g1D)                                                            \n",
            "                                                                 \n",
            " conv1d_7 (Conv1D)           (None, 62, 256)           98560     \n",
            "                                                                 \n",
            " conv1d_8 (Conv1D)           (None, 62, 256)           196864    \n",
            "                                                                 \n",
            " conv1d_9 (Conv1D)           (None, 62, 256)           196864    \n",
            "                                                                 \n",
            " max_pooling1d_3 (MaxPoolin  (None, 31, 256)           0         \n",
            " g1D)                                                            \n",
            "                                                                 \n",
            " conv1d_10 (Conv1D)          (None, 31, 256)           196864    \n",
            "                                                                 \n",
            " conv1d_11 (Conv1D)          (None, 31, 256)           196864    \n",
            "                                                                 \n",
            " conv1d_12 (Conv1D)          (None, 31, 256)           196864    \n",
            "                                                                 \n",
            " max_pooling1d_4 (MaxPoolin  (None, 15, 256)           0         \n",
            " g1D)                                                            \n",
            "                                                                 \n",
            " flatten (Flatten)           (None, 3840)              0         \n",
            "                                                                 \n",
            " dense (Dense)               (None, 128)               491648    \n",
            "                                                                 \n",
            " dropout (Dropout)           (None, 128)               0         \n",
            "                                                                 \n",
            " dense_1 (Dense)             (None, 3)                 387       \n",
            "                                                                 \n",
            "=================================================================\n",
            "Total params: 1719971 (6.56 MB)\n",
            "Trainable params: 1719971 (6.56 MB)\n",
            "Non-trainable params: 0 (0.00 Byte)\n",
            "_________________________________________________________________\n"
          ]
        }
      ]
    },
    {
      "cell_type": "code",
      "source": [],
      "metadata": {
        "id": "wM-YDHKXhgjr"
      },
      "execution_count": null,
      "outputs": []
    },
    {
      "cell_type": "code",
      "source": [
        "train_data"
      ],
      "metadata": {
        "colab": {
          "base_uri": "https://localhost:8080/"
        },
        "id": "Readb86sMy9E",
        "outputId": "a79db830-7c57-4e41-8fec-7c051315a42e"
      },
      "execution_count": 93,
      "outputs": [
        {
          "output_type": "execute_result",
          "data": {
            "text/plain": [
              "<_TensorSliceDataset element_spec=(TensorSpec(shape=(500,), dtype=tf.float32, name=None), TensorSpec(shape=(3,), dtype=tf.float64, name=None))>"
            ]
          },
          "metadata": {},
          "execution_count": 93
        }
      ]
    },
    {
      "cell_type": "code",
      "source": [
        "# Define the directory path\n",
        "model_dir = '/content/applied'\n",
        "\n",
        "# Ensure the directory exists\n",
        "if not os.path.exists(model_dir):\n",
        "    os.makedirs(model_dir)\n",
        "    print(f\"Directory created: {model_dir}\")\n",
        "\n",
        "# Define the test file path\n",
        "test_file_path = os.path.join(model_dir, 'test_file.txt')\n",
        "print(f\"Test file will be saved at: {test_file_path}\")\n",
        "\n",
        "# Try saving a random thing (a simple text file) to the directory\n",
        "try:\n",
        "    with open(test_file_path, 'w') as f:\n",
        "        f.write(\"This is a test file to check the directory path.\\n\")\n",
        "    print(f\"Test file saved successfully at: {test_file_path}\")\n",
        "except Exception as e:\n",
        "    print(f\"An error occurred while saving the test file: {e}\")\n",
        "\n",
        "# Verify that the test file was saved successfully\n",
        "if os.path.exists(test_file_path):\n",
        "    print(\"The test file was saved successfully.\")\n",
        "else:\n",
        "    print(\"The test file was not saved. Check the path and permissions.\")\n",
        "\n",
        "\n"
      ],
      "metadata": {
        "colab": {
          "base_uri": "https://localhost:8080/"
        },
        "id": "wZQtIrR0MzAJ",
        "outputId": "4b6e97ac-6969-43e6-bdc3-6aa5479ee14e"
      },
      "execution_count": 94,
      "outputs": [
        {
          "output_type": "stream",
          "name": "stdout",
          "text": [
            "Directory created: /content/applied\n",
            "Test file will be saved at: /content/applied/test_file.txt\n",
            "Test file saved successfully at: /content/applied/test_file.txt\n",
            "The test file was saved successfully.\n"
          ]
        }
      ]
    },
    {
      "cell_type": "code",
      "source": [
        "from google.colab import files\n",
        "\n",
        "files.download(test_file_path)\n"
      ],
      "metadata": {
        "colab": {
          "base_uri": "https://localhost:8080/",
          "height": 17
        },
        "id": "h80p2TezMzDL",
        "outputId": "d903e5f1-5807-49d9-a707-a6e384d1c6f5"
      },
      "execution_count": 95,
      "outputs": [
        {
          "output_type": "display_data",
          "data": {
            "text/plain": [
              "<IPython.core.display.Javascript object>"
            ],
            "application/javascript": [
              "\n",
              "    async function download(id, filename, size) {\n",
              "      if (!google.colab.kernel.accessAllowed) {\n",
              "        return;\n",
              "      }\n",
              "      const div = document.createElement('div');\n",
              "      const label = document.createElement('label');\n",
              "      label.textContent = `Downloading \"${filename}\": `;\n",
              "      div.appendChild(label);\n",
              "      const progress = document.createElement('progress');\n",
              "      progress.max = size;\n",
              "      div.appendChild(progress);\n",
              "      document.body.appendChild(div);\n",
              "\n",
              "      const buffers = [];\n",
              "      let downloaded = 0;\n",
              "\n",
              "      const channel = await google.colab.kernel.comms.open(id);\n",
              "      // Send a message to notify the kernel that we're ready.\n",
              "      channel.send({})\n",
              "\n",
              "      for await (const message of channel.messages) {\n",
              "        // Send a message to notify the kernel that we're ready.\n",
              "        channel.send({})\n",
              "        if (message.buffers) {\n",
              "          for (const buffer of message.buffers) {\n",
              "            buffers.push(buffer);\n",
              "            downloaded += buffer.byteLength;\n",
              "            progress.value = downloaded;\n",
              "          }\n",
              "        }\n",
              "      }\n",
              "      const blob = new Blob(buffers, {type: 'application/binary'});\n",
              "      const a = document.createElement('a');\n",
              "      a.href = window.URL.createObjectURL(blob);\n",
              "      a.download = filename;\n",
              "      div.appendChild(a);\n",
              "      a.click();\n",
              "      div.remove();\n",
              "    }\n",
              "  "
            ]
          },
          "metadata": {}
        },
        {
          "output_type": "display_data",
          "data": {
            "text/plain": [
              "<IPython.core.display.Javascript object>"
            ],
            "application/javascript": [
              "download(\"download_c7c33ef4-3f25-4dc2-b5b2-a5504f8421f3\", \"test_file.txt\", 49)"
            ]
          },
          "metadata": {}
        }
      ]
    },
    {
      "cell_type": "code",
      "source": [
        "import os\n",
        "import tensorflow as tf\n",
        "from tensorflow.keras.callbacks import ModelCheckpoint\n",
        "\n",
        "# Define the Colab directory path\n",
        "colab_model_dir = '/content/applied'\n",
        "\n",
        "# Ensure the Colab directory exists\n",
        "if not os.path.exists(colab_model_dir):\n",
        "    os.makedirs(colab_model_dir)\n",
        "\n",
        "# Define the full path to save the best model\n",
        "colab_model_save_path = os.path.join(colab_model_dir, 'best_model_epoch_{epoch:02d}_val_loss_{val_loss:.2f}.h5')\n",
        "\n",
        "# Define the ModelCheckpoint callback\n",
        "colab_checkpoint_callback = ModelCheckpoint(\n",
        "    filepath=colab_model_save_path,\n",
        "    monitor='val_loss',\n",
        "    mode='min',\n",
        "    save_best_only=True,\n",
        "    save_weights_only=False,  # Ensure the full model is saved, not just weights\n",
        "    verbose=1\n",
        ")\n",
        "\n",
        "# Compile the model\n",
        "vgg.compile(\n",
        "    optimizer=tf.keras.optimizers.Adam(learning_rate=1e-6),\n",
        "    loss='categorical_crossentropy',\n",
        "    metrics=[\n",
        "        'accuracy',\n",
        "        tf.keras.metrics.Precision(class_id=0),\n",
        "        tf.keras.metrics.Recall(class_id=0),\n",
        "        tf.keras.metrics.Precision(class_id=1),\n",
        "        tf.keras.metrics.Recall(class_id=1),\n",
        "        tf.keras.metrics.Precision(class_id=2),\n",
        "        tf.keras.metrics.Recall(class_id=2)\n",
        "    ]\n",
        ")\n",
        "\n",
        "# Train the model with the ModelCheckpoint callback\n",
        "history = vgg.fit(\n",
        "    train_data.batch(32),                    # Training data\n",
        "    validation_data=validation_data.batch(32),  # Validation data\n",
        "    shuffle=True,\n",
        "    epochs=4,\n",
        "    callbacks=[\n",
        "        tf.keras.callbacks.EarlyStopping(monitor='val_loss', mode='min', patience=5, restore_best_weights=True),\n",
        "        colab_checkpoint_callback\n",
        "    ]\n",
        ").history\n",
        "\n",
        "# Evaluate the model on the test data\n",
        "results = vgg.evaluate(testing_data.batch(32))  # Test data\n",
        "\n",
        "# Unpack results\n",
        "(test_loss,\n",
        " test_accuracy,\n",
        " precision_class_0, recall_class_0,\n",
        " precision_class_1, recall_class_1,\n",
        " precision_class_2, recall_class_2) = results\n",
        "\n",
        "# Print the results\n",
        "print(f\"Test Loss: {test_loss}\")\n",
        "print(f\"Test Accuracy: {test_accuracy}\")\n",
        "print(f\"Precision for class 0: {precision_class_0}\")\n",
        "print(f\"Recall for class 0: {recall_class_0}\")\n",
        "print(f\"Precision for class 1: {precision_class_1}\")\n",
        "print(f\"Recall for class 1: {recall_class_1}\")\n",
        "print(f\"Precision for class 2: {precision_class_2}\")\n",
        "print(f\"Recall for class 2: {recall_class_2}\")\n",
        "\n",
        "print(f\"Model saved to Colab path: {colab_model_save_path}\")\n",
        "\n",
        "\n"
      ],
      "metadata": {
        "id": "_b8nEKS2MzF6",
        "colab": {
          "base_uri": "https://localhost:8080/"
        },
        "outputId": "c613df5c-b95b-4ccb-f7c1-9856a9c996fe"
      },
      "execution_count": 96,
      "outputs": [
        {
          "output_type": "stream",
          "name": "stdout",
          "text": [
            "Epoch 1/4\n",
            "4464/4464 [==============================] - ETA: 0s - loss: 0.4622 - accuracy: 0.9241 - precision_3: 0.9259 - recall_3: 0.8542 - precision_4: 0.0000e+00 - recall_4: 0.0000e+00 - precision_5: 0.0000e+00 - recall_5: 0.0000e+00"
          ]
        },
        {
          "output_type": "stream",
          "name": "stderr",
          "text": [
            "WARNING:tensorflow:`evaluate()` received a value for `sample_weight`, but `weighted_metrics` were not provided.  Did you mean to pass metrics to `weighted_metrics` in `compile()`?  If this is intentional you can pass `weighted_metrics=[]` to `compile()` in order to silence this warning.\n"
          ]
        },
        {
          "output_type": "stream",
          "name": "stdout",
          "text": [
            "\n",
            "Epoch 1: val_loss improved from inf to 2.24496, saving model to /content/applied/best_model_epoch_01_val_loss_2.24.h5\n",
            "4464/4464 [==============================] - 105s 17ms/step - loss: 0.4622 - accuracy: 0.9241 - precision_3: 0.9259 - recall_3: 0.8542 - precision_4: 0.0000e+00 - recall_4: 0.0000e+00 - precision_5: 0.0000e+00 - recall_5: 0.0000e+00 - val_loss: 2.2450 - val_accuracy: 0.8927 - val_precision_3: 0.8927 - val_recall_3: 1.0000 - val_precision_4: 0.0000e+00 - val_recall_4: 0.0000e+00 - val_precision_5: 0.0000e+00 - val_recall_5: 0.0000e+00\n"
          ]
        },
        {
          "output_type": "stream",
          "name": "stderr",
          "text": [
            "/usr/local/lib/python3.10/dist-packages/keras/src/engine/training.py:3103: UserWarning: You are saving your model as an HDF5 file via `model.save()`. This file format is considered legacy. We recommend using instead the native Keras format, e.g. `model.save('my_model.keras')`.\n",
            "  saving_api.save_model(\n"
          ]
        },
        {
          "output_type": "stream",
          "name": "stdout",
          "text": [
            "Epoch 2/4\n",
            "4461/4464 [============================>.] - ETA: 0s - loss: 0.3202 - accuracy: 0.9255 - precision_3: 0.9255 - recall_3: 1.0000 - precision_4: 0.0000e+00 - recall_4: 0.0000e+00 - precision_5: 0.0000e+00 - recall_5: 0.0000e+00"
          ]
        },
        {
          "output_type": "stream",
          "name": "stderr",
          "text": [
            "WARNING:tensorflow:`evaluate()` received a value for `sample_weight`, but `weighted_metrics` were not provided.  Did you mean to pass metrics to `weighted_metrics` in `compile()`?  If this is intentional you can pass `weighted_metrics=[]` to `compile()` in order to silence this warning.\n"
          ]
        },
        {
          "output_type": "stream",
          "name": "stdout",
          "text": [
            "\n",
            "Epoch 2: val_loss improved from 2.24496 to 2.19453, saving model to /content/applied/best_model_epoch_02_val_loss_2.19.h5\n",
            "4464/4464 [==============================] - 70s 16ms/step - loss: 0.3201 - accuracy: 0.9255 - precision_3: 0.9255 - recall_3: 1.0000 - precision_4: 0.0000e+00 - recall_4: 0.0000e+00 - precision_5: 0.0000e+00 - recall_5: 0.0000e+00 - val_loss: 2.1945 - val_accuracy: 0.8927 - val_precision_3: 0.8927 - val_recall_3: 1.0000 - val_precision_4: 0.0000e+00 - val_recall_4: 0.0000e+00 - val_precision_5: 0.0000e+00 - val_recall_5: 0.0000e+00\n",
            "Epoch 3/4\n",
            "4464/4464 [==============================] - ETA: 0s - loss: 0.3125 - accuracy: 0.9255 - precision_3: 0.9255 - recall_3: 1.0000 - precision_4: 0.0000e+00 - recall_4: 0.0000e+00 - precision_5: 0.0000e+00 - recall_5: 0.0000e+00"
          ]
        },
        {
          "output_type": "stream",
          "name": "stderr",
          "text": [
            "WARNING:tensorflow:`evaluate()` received a value for `sample_weight`, but `weighted_metrics` were not provided.  Did you mean to pass metrics to `weighted_metrics` in `compile()`?  If this is intentional you can pass `weighted_metrics=[]` to `compile()` in order to silence this warning.\n"
          ]
        },
        {
          "output_type": "stream",
          "name": "stdout",
          "text": [
            "\n",
            "Epoch 3: val_loss improved from 2.19453 to 2.13260, saving model to /content/applied/best_model_epoch_03_val_loss_2.13.h5\n",
            "4464/4464 [==============================] - 57s 13ms/step - loss: 0.3125 - accuracy: 0.9255 - precision_3: 0.9255 - recall_3: 1.0000 - precision_4: 0.0000e+00 - recall_4: 0.0000e+00 - precision_5: 0.0000e+00 - recall_5: 0.0000e+00 - val_loss: 2.1326 - val_accuracy: 0.8927 - val_precision_3: 0.8927 - val_recall_3: 1.0000 - val_precision_4: 0.0000e+00 - val_recall_4: 0.0000e+00 - val_precision_5: 0.0000e+00 - val_recall_5: 0.0000e+00\n",
            "Epoch 4/4\n",
            "4464/4464 [==============================] - ETA: 0s - loss: 0.2994 - accuracy: 0.9255 - precision_3: 0.9255 - recall_3: 1.0000 - precision_4: 0.0000e+00 - recall_4: 0.0000e+00 - precision_5: 0.0000e+00 - recall_5: 0.0000e+00"
          ]
        },
        {
          "output_type": "stream",
          "name": "stderr",
          "text": [
            "WARNING:tensorflow:`evaluate()` received a value for `sample_weight`, but `weighted_metrics` were not provided.  Did you mean to pass metrics to `weighted_metrics` in `compile()`?  If this is intentional you can pass `weighted_metrics=[]` to `compile()` in order to silence this warning.\n"
          ]
        },
        {
          "output_type": "stream",
          "name": "stdout",
          "text": [
            "\n",
            "Epoch 4: val_loss improved from 2.13260 to 1.97153, saving model to /content/applied/best_model_epoch_04_val_loss_1.97.h5\n",
            "4464/4464 [==============================] - 55s 12ms/step - loss: 0.2994 - accuracy: 0.9255 - precision_3: 0.9255 - recall_3: 1.0000 - precision_4: 0.0000e+00 - recall_4: 0.0000e+00 - precision_5: 0.0000e+00 - recall_5: 0.0000e+00 - val_loss: 1.9715 - val_accuracy: 0.8927 - val_precision_3: 0.8927 - val_recall_3: 1.0000 - val_precision_4: 0.0000e+00 - val_recall_4: 0.0000e+00 - val_precision_5: 0.0000e+00 - val_recall_5: 0.0000e+00\n"
          ]
        },
        {
          "output_type": "stream",
          "name": "stderr",
          "text": [
            "WARNING:tensorflow:`evaluate()` received a value for `sample_weight`, but `weighted_metrics` were not provided.  Did you mean to pass metrics to `weighted_metrics` in `compile()`?  If this is intentional you can pass `weighted_metrics=[]` to `compile()` in order to silence this warning.\n"
          ]
        },
        {
          "output_type": "stream",
          "name": "stdout",
          "text": [
            "1249/1249 [==============================] - 8s 6ms/step - loss: 2.1030 - accuracy: 0.9052 - precision_3: 0.9052 - recall_3: 1.0000 - precision_4: 0.0000e+00 - recall_4: 0.0000e+00 - precision_5: 0.0000e+00 - recall_5: 0.0000e+00\n",
            "Test Loss: 2.102992057800293\n",
            "Test Accuracy: 0.9052242040634155\n",
            "Precision for class 0: 0.9052242040634155\n",
            "Recall for class 0: 1.0\n",
            "Precision for class 1: 0.0\n",
            "Recall for class 1: 0.0\n",
            "Precision for class 2: 0.0\n",
            "Recall for class 2: 0.0\n",
            "Model saved to Colab path: /content/applied/best_model_epoch_{epoch:02d}_val_loss_{val_loss:.2f}.h5\n"
          ]
        }
      ]
    },
    {
      "cell_type": "code",
      "source": [
        "import os\n",
        "import tensorflow as tf\n",
        "from tensorflow.keras.callbacks import ModelCheckpoint\n",
        "\n",
        "# Define the Colab directory path\n",
        "colab_model_dir = '/content/applied'\n",
        "\n",
        "# Ensure the Colab directory exists\n",
        "if not os.path.exists(colab_model_dir):\n",
        "    os.makedirs(colab_model_dir)\n",
        "\n",
        "# Define the full path to save the best model\n",
        "colab_model_save_path = os.path.join(colab_model_dir, 'best_model_epoch_{epoch:02d}_val_loss_{val_loss:.2f}.h5')\n",
        "\n",
        "# Define the ModelCheckpoint callback\n",
        "colab_checkpoint_callback = ModelCheckpoint(\n",
        "    filepath=colab_model_save_path,\n",
        "    monitor='val_loss',\n",
        "    mode='min',\n",
        "    save_best_only=True,\n",
        "    save_weights_only=False,  # Ensure the full model is saved, not just weights\n",
        "    verbose=1\n",
        ")\n",
        "\n",
        "# Custom metric functions\n",
        "def true_positives(y_true, y_pred):\n",
        "    return tf.reduce_sum(tf.cast(tf.logical_and(tf.equal(y_true, 1), tf.equal(tf.round(y_pred), 1)), tf.float32))\n",
        "\n",
        "def false_positives(y_true, y_pred):\n",
        "    return tf.reduce_sum(tf.cast(tf.logical_and(tf.equal(y_true, 0), tf.equal(tf.round(y_pred), 1)), tf.float32))\n",
        "\n",
        "def true_negatives(y_true, y_pred):\n",
        "    return tf.reduce_sum(tf.cast(tf.logical_and(tf.equal(y_true, 0), tf.equal(tf.round(y_pred), 0)), tf.float32))\n",
        "\n",
        "def false_negatives(y_true, y_pred):\n",
        "    return tf.reduce_sum(tf.cast(tf.logical_and(tf.equal(y_true, 1), tf.equal(tf.round(y_pred), 0)), tf.float32))\n",
        "\n",
        "def custom_metric(y_true, y_pred):\n",
        "    TP = true_positives(y_true, y_pred)\n",
        "    FP = false_positives(y_true, y_pred)\n",
        "    TN = true_negatives(y_true, y_pred)\n",
        "    FN = false_negatives(y_true, y_pred)\n",
        "\n",
        "    # Adjusting metrics based on empirical penalties and thresholds\n",
        "    penalty_factor = 0.1\n",
        "    adjusted_metric = TP - penalty_factor * (FP + FN)\n",
        "\n",
        "    return adjusted_metric\n",
        "\n",
        "# Compile the model\n",
        "vgg.compile(\n",
        "    optimizer=tf.keras.optimizers.Adam(learning_rate=1e-6),\n",
        "    loss='categorical_crossentropy',\n",
        "    metrics=[\n",
        "        'accuracy',\n",
        "        custom_metric,\n",
        "        tf.keras.metrics.Precision(class_id=0),\n",
        "        tf.keras.metrics.Recall(class_id=0),\n",
        "        tf.keras.metrics.Precision(class_id=1),\n",
        "        tf.keras.metrics.Recall(class_id=1),\n",
        "        tf.keras.metrics.Precision(class_id=2),\n",
        "        tf.keras.metrics.Recall(class_id=2)\n",
        "    ]\n",
        ")\n",
        "\n",
        "# Train the model with the ModelCheckpoint callback\n",
        "history = vgg.fit(\n",
        "    train_data.batch(32),                    # Training data\n",
        "    validation_data=validation_data.batch(32),  # Validation data\n",
        "    shuffle=True,\n",
        "    epochs=4,\n",
        "    callbacks=[\n",
        "        tf.keras.callbacks.EarlyStopping(monitor='val_loss', mode='min', patience=5, restore_best_weights=True),\n",
        "        colab_checkpoint_callback\n",
        "    ]\n",
        ").history\n",
        "\n",
        "# Evaluate the model on the test data\n",
        "results = vgg.evaluate(testing_data.batch(32))  # Test data\n",
        "\n",
        "# Unpack results\n",
        "(test_loss,\n",
        " test_accuracy,\n",
        " custom_metric_result,\n",
        " precision_class_0, recall_class_0,\n",
        " precision_class_1, recall_class_1,\n",
        " precision_class_2, recall_class_2) = results\n",
        "\n",
        "# Print the results\n",
        "print(f\"Test Loss: {test_loss}\")\n",
        "print(f\"Test Accuracy: {test_accuracy}\")\n",
        "print(f\"Custom Metric Result: {custom_metric_result}\")\n",
        "print(f\"Precision for class 0: {precision_class_0}\")\n",
        "print(f\"Recall for class 0: {recall_class_0}\")\n",
        "print(f\"Precision for class 1: {precision_class_1}\")\n",
        "print(f\"Recall for class 1: {recall_class_1}\")\n",
        "print(f\"Precision for class 2: {precision_class_2}\")\n",
        "print(f\"Recall for class 2: {recall_class_2}\")\n",
        "\n",
        "print(f\"Model saved to Colab path: {colab_model_save_path}\")\n"
      ],
      "metadata": {
        "colab": {
          "base_uri": "https://localhost:8080/"
        },
        "id": "cXlHEo5-S0Z6",
        "outputId": "504f12b7-f568-4336-8a2b-9ee37f8cf306"
      },
      "execution_count": 97,
      "outputs": [
        {
          "output_type": "stream",
          "name": "stdout",
          "text": [
            "Epoch 1/4\n",
            "4460/4464 [============================>.] - ETA: 0s - loss: 0.2782 - accuracy: 0.9254 - custom_metric: 29.1157 - precision_6: 0.9256 - recall_6: 0.9993 - precision_7: 0.0000e+00 - recall_7: 0.0000e+00 - precision_8: 0.0000e+00 - recall_8: 0.0000e+00"
          ]
        },
        {
          "output_type": "stream",
          "name": "stderr",
          "text": [
            "WARNING:tensorflow:`evaluate()` received a value for `sample_weight`, but `weighted_metrics` were not provided.  Did you mean to pass metrics to `weighted_metrics` in `compile()`?  If this is intentional you can pass `weighted_metrics=[]` to `compile()` in order to silence this warning.\n"
          ]
        },
        {
          "output_type": "stream",
          "name": "stdout",
          "text": [
            "\n",
            "Epoch 1: val_loss improved from inf to 1.80496, saving model to /content/applied/best_model_epoch_01_val_loss_1.80.h5\n",
            "4464/4464 [==============================] - 67s 14ms/step - loss: 0.2782 - accuracy: 0.9255 - custom_metric: 29.1131 - precision_6: 0.9257 - recall_6: 0.9993 - precision_7: 0.0000e+00 - recall_7: 0.0000e+00 - precision_8: 0.0000e+00 - recall_8: 0.0000e+00 - val_loss: 1.8050 - val_accuracy: 0.8927 - val_custom_metric: 27.8382 - val_precision_6: 0.8929 - val_recall_6: 0.9988 - val_precision_7: 0.0000e+00 - val_recall_7: 0.0000e+00 - val_precision_8: 0.0000e+00 - val_recall_8: 0.0000e+00\n",
            "Epoch 2/4\n",
            "4463/4464 [============================>.] - ETA: 0s - loss: 0.2632 - accuracy: 0.9253 - custom_metric: 29.0546 - precision_6: 0.9285 - recall_6: 0.9971 - precision_7: 0.0000e+00 - recall_7: 0.0000e+00 - precision_8: 0.0000e+00 - recall_8: 0.0000e+00"
          ]
        },
        {
          "output_type": "stream",
          "name": "stderr",
          "text": [
            "WARNING:tensorflow:`evaluate()` received a value for `sample_weight`, but `weighted_metrics` were not provided.  Did you mean to pass metrics to `weighted_metrics` in `compile()`?  If this is intentional you can pass `weighted_metrics=[]` to `compile()` in order to silence this warning.\n"
          ]
        },
        {
          "output_type": "stream",
          "name": "stdout",
          "text": [
            "\n",
            "Epoch 2: val_loss improved from 1.80496 to 1.72851, saving model to /content/applied/best_model_epoch_02_val_loss_1.73.h5\n",
            "4464/4464 [==============================] - 58s 13ms/step - loss: 0.2632 - accuracy: 0.9254 - custom_metric: 29.0512 - precision_6: 0.9285 - recall_6: 0.9971 - precision_7: 0.0000e+00 - recall_7: 0.0000e+00 - precision_8: 0.0000e+00 - recall_8: 0.0000e+00 - val_loss: 1.7285 - val_accuracy: 0.8926 - val_custom_metric: 27.8112 - val_precision_6: 0.9016 - val_recall_6: 0.9969 - val_precision_7: 0.0000e+00 - val_recall_7: 0.0000e+00 - val_precision_8: 0.0000e+00 - val_recall_8: 0.0000e+00\n",
            "Epoch 3/4\n",
            "4463/4464 [============================>.] - ETA: 0s - loss: 0.2546 - accuracy: 0.9256 - custom_metric: 29.0147 - precision_6: 0.9342 - recall_6: 0.9953 - precision_7: 0.0000e+00 - recall_7: 0.0000e+00 - precision_8: 0.0000e+00 - recall_8: 0.0000e+00"
          ]
        },
        {
          "output_type": "stream",
          "name": "stderr",
          "text": [
            "WARNING:tensorflow:`evaluate()` received a value for `sample_weight`, but `weighted_metrics` were not provided.  Did you mean to pass metrics to `weighted_metrics` in `compile()`?  If this is intentional you can pass `weighted_metrics=[]` to `compile()` in order to silence this warning.\n"
          ]
        },
        {
          "output_type": "stream",
          "name": "stdout",
          "text": [
            "\n",
            "Epoch 3: val_loss improved from 1.72851 to 1.69964, saving model to /content/applied/best_model_epoch_03_val_loss_1.70.h5\n",
            "4464/4464 [==============================] - 59s 13ms/step - loss: 0.2546 - accuracy: 0.9256 - custom_metric: 29.0113 - precision_6: 0.9342 - recall_6: 0.9953 - precision_7: 0.0000e+00 - recall_7: 0.0000e+00 - precision_8: 0.0000e+00 - recall_8: 0.0000e+00 - val_loss: 1.6996 - val_accuracy: 0.8941 - val_custom_metric: 27.7856 - val_precision_6: 0.9104 - val_recall_6: 0.9951 - val_precision_7: 0.0000e+00 - val_recall_7: 0.0000e+00 - val_precision_8: 0.0000e+00 - val_recall_8: 0.0000e+00\n",
            "Epoch 4/4\n",
            "4462/4464 [============================>.] - ETA: 0s - loss: 0.2501 - accuracy: 0.9265 - custom_metric: 28.9642 - precision_6: 0.9380 - recall_6: 0.9933 - precision_7: 0.3333 - recall_7: 5.7904e-04 - precision_8: 0.0000e+00 - recall_8: 0.0000e+00"
          ]
        },
        {
          "output_type": "stream",
          "name": "stderr",
          "text": [
            "WARNING:tensorflow:`evaluate()` received a value for `sample_weight`, but `weighted_metrics` were not provided.  Did you mean to pass metrics to `weighted_metrics` in `compile()`?  If this is intentional you can pass `weighted_metrics=[]` to `compile()` in order to silence this warning.\n"
          ]
        },
        {
          "output_type": "stream",
          "name": "stdout",
          "text": [
            "\n",
            "Epoch 4: val_loss improved from 1.69964 to 1.67600, saving model to /content/applied/best_model_epoch_04_val_loss_1.68.h5\n",
            "4464/4464 [==============================] - 57s 13ms/step - loss: 0.2500 - accuracy: 0.9266 - custom_metric: 28.9613 - precision_6: 0.9380 - recall_6: 0.9933 - precision_7: 0.3333 - recall_7: 5.7904e-04 - precision_8: 0.0000e+00 - recall_8: 0.0000e+00 - val_loss: 1.6760 - val_accuracy: 0.8958 - val_custom_metric: 27.7548 - val_precision_6: 0.9139 - val_recall_6: 0.9938 - val_precision_7: 0.0000e+00 - val_recall_7: 0.0000e+00 - val_precision_8: 0.0000e+00 - val_recall_8: 0.0000e+00\n"
          ]
        },
        {
          "output_type": "stream",
          "name": "stderr",
          "text": [
            "WARNING:tensorflow:`evaluate()` received a value for `sample_weight`, but `weighted_metrics` were not provided.  Did you mean to pass metrics to `weighted_metrics` in `compile()`?  If this is intentional you can pass `weighted_metrics=[]` to `compile()` in order to silence this warning.\n"
          ]
        },
        {
          "output_type": "stream",
          "name": "stdout",
          "text": [
            "1249/1249 [==============================] - 7s 5ms/step - loss: 1.9265 - accuracy: 0.9051 - custom_metric: 28.1458 - precision_6: 0.9152 - recall_6: 0.9921 - precision_7: 0.0000e+00 - recall_7: 0.0000e+00 - precision_8: 0.0000e+00 - recall_8: 0.0000e+00\n",
            "Test Loss: 1.9264599084854126\n",
            "Test Accuracy: 0.9050740599632263\n",
            "Custom Metric Result: 28.145803451538086\n",
            "Precision for class 0: 0.9152196645736694\n",
            "Recall for class 0: 0.9920950531959534\n",
            "Precision for class 1: 0.0\n",
            "Recall for class 1: 0.0\n",
            "Precision for class 2: 0.0\n",
            "Recall for class 2: 0.0\n",
            "Model saved to Colab path: /content/applied/best_model_epoch_{epoch:02d}_val_loss_{val_loss:.2f}.h5\n"
          ]
        }
      ]
    },
    {
      "cell_type": "code",
      "source": [],
      "metadata": {
        "id": "LIxJmZlzh1OE"
      },
      "execution_count": null,
      "outputs": []
    },
    {
      "cell_type": "code",
      "source": [
        "import numpy as np\n",
        "import tensorflow as tf\n",
        "from sklearn.metrics import confusion_matrix, ConfusionMatrixDisplay\n",
        "import matplotlib.pyplot as plt\n",
        "\n",
        "# Assuming validation_data and vgg model are defined and the model is trained\n",
        "\n",
        "# Generate predictions for the validation dataset\n",
        "predictions_oh_val = vgg.predict(validation_data.batch(32))\n",
        "\n",
        "# Assuming y_val is the true labels from the validation dataset\n",
        "# If y_val is not already defined, you need to extract it from validation_data\n",
        "# For this example, let's assume y_val is already a TensorFlow tensor or a NumPy array\n",
        "\n",
        "# Convert TensorFlow tensors to NumPy arrays if necessary\n",
        "if isinstance(y_val, tf.Tensor):\n",
        "    y_val_numpy = y_val.numpy()\n",
        "else:\n",
        "    y_val_numpy = y_val\n",
        "\n",
        "# Convert predictions to NumPy array if necessary\n",
        "if isinstance(predictions_oh_val, tf.Tensor):\n",
        "    predictions_oh_val_numpy = predictions_oh_val.numpy()\n",
        "else:\n",
        "    predictions_oh_val_numpy = predictions_oh_val\n",
        "\n",
        "# Extract true labels from the validation dataset\n",
        "y_val_true = [np.argmax(y) for y in y_val_numpy]\n",
        "\n",
        "# Extract predicted labels from the one-hot encoded predictions\n",
        "y_val_pred = [np.argmax(y) for y in predictions_oh_val_numpy]\n",
        "\n",
        "# Plot confusion matrix\n",
        "def plot_confusion_matrix(y_true, y_pred, classes):\n",
        "    cm = confusion_matrix(y_true, y_pred)\n",
        "    disp = ConfusionMatrixDisplay(confusion_matrix=cm, display_labels=classes)\n",
        "    disp.plot(cmap=plt.cm.Blues)\n",
        "    plt.show()\n",
        "\n",
        "# Call the function to plot confusion matrix\n",
        "plot_confusion_matrix(y_val_true, y_val_pred, classes=['N', 'S', 'V'])\n"
      ],
      "metadata": {
        "colab": {
          "base_uri": "https://localhost:8080/",
          "height": 466
        },
        "id": "MrG264dGM7Td",
        "outputId": "8ab769b0-f99c-499a-c102-dd25568d478e"
      },
      "execution_count": 98,
      "outputs": [
        {
          "output_type": "stream",
          "name": "stdout",
          "text": [
            "814/814 [==============================] - 4s 4ms/step\n"
          ]
        },
        {
          "output_type": "display_data",
          "data": {
            "text/plain": [
              "<Figure size 640x480 with 2 Axes>"
            ],
            "image/png": "[encoded data removed]"
          },
          "metadata": {}
        }
      ]
    },
    {
      "cell_type": "code",
      "source": [
        "vgg.save('/gdrive/My Drive/VGG_Multiclass.h5')"
      ],
      "metadata": {
        "colab": {
          "base_uri": "https://localhost:8080/"
        },
        "id": "z_B5tMygh2__",
        "outputId": "b206cd5d-2ece-4c28-e315-671a813c1b9f"
      },
      "execution_count": 99,
      "outputs": [
        {
          "output_type": "stream",
          "name": "stderr",
          "text": [
            "/usr/local/lib/python3.10/dist-packages/keras/src/engine/training.py:3103: UserWarning: You are saving your model as an HDF5 file via `model.save()`. This file format is considered legacy. We recommend using instead the native Keras format, e.g. `model.save('my_model.keras')`.\n",
            "  saving_api.save_model(\n"
          ]
        }
      ]
    },
    {
      "cell_type": "code",
      "source": [
        "import os\n",
        "import re\n",
        "import numpy as np\n",
        "import scipy.io as sio\n",
        "from scipy import signal\n",
        "import tensorflow as tf\n",
        "\n",
        "# Utility functions\n",
        "def ppg_freq(filename):\n",
        "    if '128' in filename:\n",
        "        return 128\n",
        "    else:\n",
        "        return 250\n",
        "\n",
        "def load_data(file):\n",
        "    original = sio.loadmat(file)\n",
        "    spk_file = file.replace('.mat', '_spk.mat')\n",
        "    spk = sio.loadmat(spk_file)\n",
        "    return original, spk\n",
        "\n",
        "def filter_files_by_pattern(directory, pattern):\n",
        "    files = os.listdir(directory)\n",
        "    filtered_files = [file for file in files if re.match(pattern, file)]\n",
        "    return filtered_files\n",
        "\n",
        "def normalize(data):\n",
        "    return (data - np.mean(data)) / np.std(data)\n",
        "\n",
        "def butter_bandpass(lowcut, highcut, fs, order=4):\n",
        "    nyquist = 0.5 * fs\n",
        "    low = lowcut / nyquist\n",
        "    high = highcut / nyquist\n",
        "    b, a = signal.butter(order, [low, high], btype='band')\n",
        "    return b, a\n",
        "\n",
        "def butter_bandpass_filter(data, lowcut, highcut, fs, order=5):\n",
        "    b, a = butter_bandpass(lowcut, highcut, fs, order=order)\n",
        "    y = signal.lfilter(b, a, data)\n",
        "    return y\n",
        "\n",
        "def from_freq_to_freq(sample, ini_freq, freq=250):\n",
        "    secs = sample / ini_freq  # Number of seconds in signal\n",
        "    samp = secs * freq        # Number of samples to downsample\n",
        "    return int(samp)\n",
        "\n",
        "# Custom metric (replace with your actual custom metric if you have one)\n",
        "def custom_metric(y_true, y_pred):\n",
        "    return tf.reduce_mean(y_true - y_pred)\n",
        "\n",
        "# Path to the test data\n",
        "path_to_test_data = '/gdrive/My Drive/test_students_1'\n",
        "path_to_test_output = '/gdrive/My Drive/test_output_Multiclass'\n",
        "pattern = r'S\\d{3}_\\d{3}\\.mat'\n",
        "filtered_test_files = filter_files_by_pattern(path_to_test_data, pattern)\n",
        "\n",
        "# Load the trained model\n",
        "with tf.keras.utils.custom_object_scope({'custom_metric': custom_metric}):\n",
        "    model = tf.keras.models.load_model('/gdrive/My Drive/VGG_Multiclass.h5')\n",
        "\n",
        "# Preprocess the test data\n",
        "win = 250\n",
        "lowcut = 0.5\n",
        "highcut = 8.0\n",
        "fs = 250\n",
        "\n",
        "for file in filtered_test_files:\n",
        "    ppg, spk = load_data(path_to_test_data + '/' + file)\n",
        "    original_fs = ppg_freq(file)\n",
        "    resampled = signal.resample_poly(ppg['ppg'][:, 0], 250, original_fs) if original_fs != 250 else ppg['ppg'][:, 0]\n",
        "    normalized = normalize(resampled)\n",
        "    filtered = butter_bandpass_filter(normalized, lowcut, highcut, fs)\n",
        "\n",
        "    heartbeats = []\n",
        "    for j in range(len(spk['speaks'])):\n",
        "        speak_sample = from_freq_to_freq(spk['speaks'][j], original_fs)\n",
        "        if speak_sample >= win and speak_sample + win <= from_freq_to_freq(spk['speaks'][-1], original_fs):\n",
        "            heartbeats.append(filtered[speak_sample - win : speak_sample + win])\n",
        "\n",
        "    heartbeats = np.array(heartbeats)\n",
        "    X_test = tf.keras.preprocessing.sequence.pad_sequences(heartbeats, maxlen=win * 2, dtype='float32', truncating='post', padding=\"post\")\n",
        "\n",
        "    # Predict the labels for the heartbeats\n",
        "    predictions = model.predict(X_test)\n",
        "    predicted_labels = np.argmax(predictions, axis=1)\n",
        "\n",
        "    # Convert numeric predictions to labels\n",
        "    label_map = {0: 'N', 1: 'S', 2: 'V'}\n",
        "    predicted_labels = [label_map[label] for label in predicted_labels]\n",
        "\n",
        "    # Save the predicted labels in the corresponding _ann file\n",
        "    ann_file = file.replace('.mat', '_ann.mat')\n",
        "    sio.savemat(path_to_test_output + '/' + ann_file, {'labels': predicted_labels})\n",
        "\n",
        "    print(f\"Processed file {file} and saved predictions to {ann_file}\")\n"
      ],
      "metadata": {
        "colab": {
          "base_uri": "https://localhost:8080/"
        },
        "id": "mHEpAb69iAIT",
        "outputId": "59a2d3bf-d14b-447c-e3bd-ef09ffb9a73c"
      },
      "execution_count": 103,
      "outputs": [
        {
          "output_type": "stream",
          "name": "stderr",
          "text": [
            "<ipython-input-103-739d6c6bac5d>:44: DeprecationWarning: Conversion of an array with ndim > 0 to a scalar is deprecated, and will error in future. Ensure you extract a single element from your array before performing this operation. (Deprecated NumPy 1.25.)\n",
            "  return int(samp)\n"
          ]
        },
        {
          "output_type": "stream",
          "name": "stdout",
          "text": [
            "58/58 [==============================] - 1s 9ms/step\n",
            "Processed file S063_128.mat and saved predictions to S063_128_ann.mat\n",
            "45/45 [==============================] - 0s 8ms/step\n",
            "Processed file S066_128.mat and saved predictions to S066_128_ann.mat\n",
            "95/95 [==============================] - 1s 6ms/step\n",
            "Processed file S077_128.mat and saved predictions to S077_128_ann.mat\n",
            "71/71 [==============================] - 1s 15ms/step\n",
            "Processed file S070_128.mat and saved predictions to S070_128_ann.mat\n",
            "73/73 [==============================] - 1s 10ms/step\n",
            "Processed file S074_128.mat and saved predictions to S074_128_ann.mat\n",
            "80/80 [==============================] - 1s 7ms/step\n",
            "Processed file S076_128.mat and saved predictions to S076_128_ann.mat\n",
            "60/60 [==============================] - 1s 8ms/step\n",
            "Processed file S078_128.mat and saved predictions to S078_128_ann.mat\n",
            "105/105 [==============================] - 0s 3ms/step\n",
            "Processed file S069_128.mat and saved predictions to S069_128_ann.mat\n",
            "64/64 [==============================] - 0s 7ms/step\n",
            "Processed file S073_128.mat and saved predictions to S073_128_ann.mat\n",
            "86/86 [==============================] - 1s 9ms/step\n",
            "Processed file S075_128.mat and saved predictions to S075_128_ann.mat\n",
            "78/78 [==============================] - 0s 4ms/step\n",
            "Processed file S072_128.mat and saved predictions to S072_128_ann.mat\n",
            "73/73 [==============================] - 0s 4ms/step\n",
            "Processed file S067_128.mat and saved predictions to S067_128_ann.mat\n",
            "60/60 [==============================] - 1s 8ms/step\n",
            "Processed file S071_128.mat and saved predictions to S071_128_ann.mat\n",
            "57/57 [==============================] - 0s 7ms/step\n",
            "Processed file S068_128.mat and saved predictions to S068_128_ann.mat\n",
            "68/68 [==============================] - 0s 5ms/step\n",
            "Processed file S064_128.mat and saved predictions to S064_128_ann.mat\n",
            "62/62 [==============================] - 0s 4ms/step\n",
            "Processed file S065_128.mat and saved predictions to S065_128_ann.mat\n",
            "3030/3030 [==============================] - 10s 3ms/step\n",
            "Processed file S122_250.mat and saved predictions to S122_250_ann.mat\n",
            "3133/3133 [==============================] - 10s 3ms/step\n",
            "Processed file S123_250.mat and saved predictions to S123_250_ann.mat\n",
            "3531/3531 [==============================] - 12s 3ms/step\n",
            "Processed file S124_250.mat and saved predictions to S124_250_ann.mat\n",
            "3783/3783 [==============================] - 12s 3ms/step\n",
            "Processed file S125_250.mat and saved predictions to S125_250_ann.mat\n",
            "2394/2394 [==============================] - 8s 4ms/step\n",
            "Processed file S126_250.mat and saved predictions to S126_250_ann.mat\n",
            "2752/2752 [==============================] - 8s 3ms/step\n",
            "Processed file S127_250.mat and saved predictions to S127_250_ann.mat\n",
            "2647/2647 [==============================] - 9s 3ms/step\n",
            "Processed file S128_250.mat and saved predictions to S128_250_ann.mat\n",
            "2680/2680 [==============================] - 9s 3ms/step\n",
            "Processed file S129_250.mat and saved predictions to S129_250_ann.mat\n",
            "3090/3090 [==============================] - 11s 3ms/step\n",
            "Processed file S130_250.mat and saved predictions to S130_250_ann.mat\n",
            "2417/2417 [==============================] - 8s 3ms/step\n",
            "Processed file S131_250.mat and saved predictions to S131_250_ann.mat\n",
            "2490/2490 [==============================] - 9s 3ms/step\n",
            "Processed file S132_250.mat and saved predictions to S132_250_ann.mat\n"
          ]
        }
      ]
    }
  ],
  "metadata": {
    "accelerator": "GPU",
    "colab": {
      "gpuType": "T4",
      "provenance": []
    },
    "kernelspec": {
      "display_name": "Python 3",
      "name": "python3"
    },
    "language_info": {
      "name": "python"
    }
  },
  "nbformat": 4,
  "nbformat_minor": 0
}